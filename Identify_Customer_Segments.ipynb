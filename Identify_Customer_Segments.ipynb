{
 "cells": [
  {
   "cell_type": "markdown",
   "metadata": {},
   "source": [
    "# Project: Identify Customer Segments\n",
    "\n",
    "In this project, you will apply unsupervised learning techniques to identify segments of the population that form the core customer base for a mail-order sales company in Germany. These segments can then be used to direct marketing campaigns towards audiences that will have the highest expected rate of returns. The data that you will use has been provided by our partners at Bertelsmann Arvato Analytics, and represents a real-life data science task.\n",
    "\n",
    "This notebook will help you complete this task by providing a framework within which you will perform your analysis steps. In each step of the project, you will see some text describing the subtask that you will perform, followed by one or more code cells for you to complete your work. **Feel free to add additional code and markdown cells as you go along so that you can explore everything in precise chunks.** The code cells provided in the base template will outline only the major tasks, and will usually not be enough to cover all of the minor tasks that comprise it.\n",
    "\n",
    "It should be noted that while there will be precise guidelines on how you should handle certain tasks in the project, there will also be places where an exact specification is not provided. **There will be times in the project where you will need to make and justify your own decisions on how to treat the data.** These are places where there may not be only one way to handle the data. In real-life tasks, there may be many valid ways to approach an analysis task. One of the most important things you can do is clearly document your approach so that other scientists can understand the decisions you've made.\n",
    "\n",
    "At the end of most sections, there will be a Markdown cell labeled **Discussion**. In these cells, you will report your findings for the completed section, as well as document the decisions that you made in your approach to each subtask. **Your project will be evaluated not just on the code used to complete the tasks outlined, but also your communication about your observations and conclusions at each stage.**"
   ]
  },
  {
   "cell_type": "code",
   "execution_count": 1,
   "metadata": {},
   "outputs": [],
   "source": [
    "# import libraries here; add more as necessary\n",
    "import numpy as np\n",
    "import pandas as pd\n",
    "import matplotlib.pyplot as plt\n",
    "import seaborn as sns\n",
    "\n",
    "from sklearn.preprocessing import Imputer, StandardScaler\n",
    "from sklearn.decomposition import PCA\n",
    "from sklearn.cluster import KMeans\n",
    "\n",
    "# magic word for producing visualizations in notebook\n",
    "%matplotlib inline"
   ]
  },
  {
   "cell_type": "markdown",
   "metadata": {},
   "source": [
    "### Step 0: Load the Data\n",
    "\n",
    "There are four files associated with this project (not including this one):\n",
    "\n",
    "- `Udacity_AZDIAS_Subset.csv`: Demographics data for the general population of Germany; 891211 persons (rows) x 85 features (columns).\n",
    "- `Udacity_CUSTOMERS_Subset.csv`: Demographics data for customers of a mail-order company; 191652 persons (rows) x 85 features (columns).\n",
    "- `Data_Dictionary.md`: Detailed information file about the features in the provided datasets.\n",
    "- `AZDIAS_Feature_Summary.csv`: Summary of feature attributes for demographics data; 85 features (rows) x 4 columns\n",
    "\n",
    "Each row of the demographics files represents a single person, but also includes information outside of individuals, including information about their household, building, and neighborhood. You will use this information to cluster the general population into groups with similar demographic properties. Then, you will see how the people in the customers dataset fit into those created clusters. The hope here is that certain clusters are over-represented in the customers data, as compared to the general population; those over-represented clusters will be assumed to be part of the core userbase. This information can then be used for further applications, such as targeting for a marketing campaign.\n",
    "\n",
    "To start off with, load in the demographics data for the general population into a pandas DataFrame, and do the same for the feature attributes summary. Note for all of the `.csv` data files in this project: they're semicolon (`;`) delimited, so you'll need an additional argument in your [`read_csv()`](https://pandas.pydata.org/pandas-docs/stable/generated/pandas.read_csv.html) call to read in the data properly. Also, considering the size of the main dataset, it may take some time for it to load completely.\n",
    "\n",
    "Once the dataset is loaded, it's recommended that you take a little bit of time just browsing the general structure of the dataset and feature summary file. You'll be getting deep into the innards of the cleaning in the first major step of the project, so gaining some general familiarity can help you get your bearings."
   ]
  },
  {
   "cell_type": "code",
   "execution_count": 2,
   "metadata": {},
   "outputs": [],
   "source": [
    "# Load in the general demographics data.\n",
    "azdias = pd.read_csv('Udacity_AZDIAS_Subset.csv',sep = ';')\n"
   ]
  },
  {
   "cell_type": "code",
   "execution_count": 3,
   "metadata": {},
   "outputs": [],
   "source": [
    "# Load in the feature summary file.\n",
    "feat_info = pd.read_csv('AZDIAS_Feature_Summary.csv', sep = ';')"
   ]
  },
  {
   "cell_type": "code",
   "execution_count": 4,
   "metadata": {},
   "outputs": [
    {
     "data": {
      "text/html": [
       "<div>\n",
       "<style scoped>\n",
       "    .dataframe tbody tr th:only-of-type {\n",
       "        vertical-align: middle;\n",
       "    }\n",
       "\n",
       "    .dataframe tbody tr th {\n",
       "        vertical-align: top;\n",
       "    }\n",
       "\n",
       "    .dataframe thead th {\n",
       "        text-align: right;\n",
       "    }\n",
       "</style>\n",
       "<table border=\"1\" class=\"dataframe\">\n",
       "  <thead>\n",
       "    <tr style=\"text-align: right;\">\n",
       "      <th></th>\n",
       "      <th>AGER_TYP</th>\n",
       "      <th>ALTERSKATEGORIE_GROB</th>\n",
       "      <th>ANREDE_KZ</th>\n",
       "      <th>CJT_GESAMTTYP</th>\n",
       "      <th>FINANZ_MINIMALIST</th>\n",
       "      <th>FINANZ_SPARER</th>\n",
       "      <th>FINANZ_VORSORGER</th>\n",
       "      <th>FINANZ_ANLEGER</th>\n",
       "      <th>FINANZ_UNAUFFAELLIGER</th>\n",
       "      <th>FINANZ_HAUSBAUER</th>\n",
       "      <th>...</th>\n",
       "      <th>PLZ8_ANTG1</th>\n",
       "      <th>PLZ8_ANTG2</th>\n",
       "      <th>PLZ8_ANTG3</th>\n",
       "      <th>PLZ8_ANTG4</th>\n",
       "      <th>PLZ8_BAUMAX</th>\n",
       "      <th>PLZ8_HHZ</th>\n",
       "      <th>PLZ8_GBZ</th>\n",
       "      <th>ARBEIT</th>\n",
       "      <th>ORTSGR_KLS9</th>\n",
       "      <th>RELAT_AB</th>\n",
       "    </tr>\n",
       "  </thead>\n",
       "  <tbody>\n",
       "    <tr>\n",
       "      <th>0</th>\n",
       "      <td>-1</td>\n",
       "      <td>2</td>\n",
       "      <td>1</td>\n",
       "      <td>2.0</td>\n",
       "      <td>3</td>\n",
       "      <td>4</td>\n",
       "      <td>3</td>\n",
       "      <td>5</td>\n",
       "      <td>5</td>\n",
       "      <td>3</td>\n",
       "      <td>...</td>\n",
       "      <td>NaN</td>\n",
       "      <td>NaN</td>\n",
       "      <td>NaN</td>\n",
       "      <td>NaN</td>\n",
       "      <td>NaN</td>\n",
       "      <td>NaN</td>\n",
       "      <td>NaN</td>\n",
       "      <td>NaN</td>\n",
       "      <td>NaN</td>\n",
       "      <td>NaN</td>\n",
       "    </tr>\n",
       "    <tr>\n",
       "      <th>1</th>\n",
       "      <td>-1</td>\n",
       "      <td>1</td>\n",
       "      <td>2</td>\n",
       "      <td>5.0</td>\n",
       "      <td>1</td>\n",
       "      <td>5</td>\n",
       "      <td>2</td>\n",
       "      <td>5</td>\n",
       "      <td>4</td>\n",
       "      <td>5</td>\n",
       "      <td>...</td>\n",
       "      <td>2.0</td>\n",
       "      <td>3.0</td>\n",
       "      <td>2.0</td>\n",
       "      <td>1.0</td>\n",
       "      <td>1.0</td>\n",
       "      <td>5.0</td>\n",
       "      <td>4.0</td>\n",
       "      <td>3.0</td>\n",
       "      <td>5.0</td>\n",
       "      <td>4.0</td>\n",
       "    </tr>\n",
       "    <tr>\n",
       "      <th>2</th>\n",
       "      <td>-1</td>\n",
       "      <td>3</td>\n",
       "      <td>2</td>\n",
       "      <td>3.0</td>\n",
       "      <td>1</td>\n",
       "      <td>4</td>\n",
       "      <td>1</td>\n",
       "      <td>2</td>\n",
       "      <td>3</td>\n",
       "      <td>5</td>\n",
       "      <td>...</td>\n",
       "      <td>3.0</td>\n",
       "      <td>3.0</td>\n",
       "      <td>1.0</td>\n",
       "      <td>0.0</td>\n",
       "      <td>1.0</td>\n",
       "      <td>4.0</td>\n",
       "      <td>4.0</td>\n",
       "      <td>3.0</td>\n",
       "      <td>5.0</td>\n",
       "      <td>2.0</td>\n",
       "    </tr>\n",
       "    <tr>\n",
       "      <th>3</th>\n",
       "      <td>2</td>\n",
       "      <td>4</td>\n",
       "      <td>2</td>\n",
       "      <td>2.0</td>\n",
       "      <td>4</td>\n",
       "      <td>2</td>\n",
       "      <td>5</td>\n",
       "      <td>2</td>\n",
       "      <td>1</td>\n",
       "      <td>2</td>\n",
       "      <td>...</td>\n",
       "      <td>2.0</td>\n",
       "      <td>2.0</td>\n",
       "      <td>2.0</td>\n",
       "      <td>0.0</td>\n",
       "      <td>1.0</td>\n",
       "      <td>3.0</td>\n",
       "      <td>4.0</td>\n",
       "      <td>2.0</td>\n",
       "      <td>3.0</td>\n",
       "      <td>3.0</td>\n",
       "    </tr>\n",
       "    <tr>\n",
       "      <th>4</th>\n",
       "      <td>-1</td>\n",
       "      <td>3</td>\n",
       "      <td>1</td>\n",
       "      <td>5.0</td>\n",
       "      <td>4</td>\n",
       "      <td>3</td>\n",
       "      <td>4</td>\n",
       "      <td>1</td>\n",
       "      <td>3</td>\n",
       "      <td>2</td>\n",
       "      <td>...</td>\n",
       "      <td>2.0</td>\n",
       "      <td>4.0</td>\n",
       "      <td>2.0</td>\n",
       "      <td>1.0</td>\n",
       "      <td>2.0</td>\n",
       "      <td>3.0</td>\n",
       "      <td>3.0</td>\n",
       "      <td>4.0</td>\n",
       "      <td>6.0</td>\n",
       "      <td>5.0</td>\n",
       "    </tr>\n",
       "  </tbody>\n",
       "</table>\n",
       "<p>5 rows × 85 columns</p>\n",
       "</div>"
      ],
      "text/plain": [
       "   AGER_TYP  ALTERSKATEGORIE_GROB  ANREDE_KZ  CJT_GESAMTTYP  \\\n",
       "0        -1                     2          1            2.0   \n",
       "1        -1                     1          2            5.0   \n",
       "2        -1                     3          2            3.0   \n",
       "3         2                     4          2            2.0   \n",
       "4        -1                     3          1            5.0   \n",
       "\n",
       "   FINANZ_MINIMALIST  FINANZ_SPARER  FINANZ_VORSORGER  FINANZ_ANLEGER  \\\n",
       "0                  3              4                 3               5   \n",
       "1                  1              5                 2               5   \n",
       "2                  1              4                 1               2   \n",
       "3                  4              2                 5               2   \n",
       "4                  4              3                 4               1   \n",
       "\n",
       "   FINANZ_UNAUFFAELLIGER  FINANZ_HAUSBAUER    ...     PLZ8_ANTG1  PLZ8_ANTG2  \\\n",
       "0                      5                 3    ...            NaN         NaN   \n",
       "1                      4                 5    ...            2.0         3.0   \n",
       "2                      3                 5    ...            3.0         3.0   \n",
       "3                      1                 2    ...            2.0         2.0   \n",
       "4                      3                 2    ...            2.0         4.0   \n",
       "\n",
       "   PLZ8_ANTG3  PLZ8_ANTG4  PLZ8_BAUMAX  PLZ8_HHZ  PLZ8_GBZ  ARBEIT  \\\n",
       "0         NaN         NaN          NaN       NaN       NaN     NaN   \n",
       "1         2.0         1.0          1.0       5.0       4.0     3.0   \n",
       "2         1.0         0.0          1.0       4.0       4.0     3.0   \n",
       "3         2.0         0.0          1.0       3.0       4.0     2.0   \n",
       "4         2.0         1.0          2.0       3.0       3.0     4.0   \n",
       "\n",
       "   ORTSGR_KLS9  RELAT_AB  \n",
       "0          NaN       NaN  \n",
       "1          5.0       4.0  \n",
       "2          5.0       2.0  \n",
       "3          3.0       3.0  \n",
       "4          6.0       5.0  \n",
       "\n",
       "[5 rows x 85 columns]"
      ]
     },
     "execution_count": 4,
     "metadata": {},
     "output_type": "execute_result"
    }
   ],
   "source": [
    "# Check the structure of the data after it's loaded (e.g. print the number of\n",
    "# rows and columns, print the first few rows).\n",
    "\n",
    "azdias.head()\n",
    "\n"
   ]
  },
  {
   "cell_type": "code",
   "execution_count": 5,
   "metadata": {},
   "outputs": [
    {
     "data": {
      "text/html": [
       "<div>\n",
       "<style scoped>\n",
       "    .dataframe tbody tr th:only-of-type {\n",
       "        vertical-align: middle;\n",
       "    }\n",
       "\n",
       "    .dataframe tbody tr th {\n",
       "        vertical-align: top;\n",
       "    }\n",
       "\n",
       "    .dataframe thead th {\n",
       "        text-align: right;\n",
       "    }\n",
       "</style>\n",
       "<table border=\"1\" class=\"dataframe\">\n",
       "  <thead>\n",
       "    <tr style=\"text-align: right;\">\n",
       "      <th></th>\n",
       "      <th>AGER_TYP</th>\n",
       "      <th>ALTERSKATEGORIE_GROB</th>\n",
       "      <th>ANREDE_KZ</th>\n",
       "      <th>CJT_GESAMTTYP</th>\n",
       "      <th>FINANZ_MINIMALIST</th>\n",
       "      <th>FINANZ_SPARER</th>\n",
       "      <th>FINANZ_VORSORGER</th>\n",
       "      <th>FINANZ_ANLEGER</th>\n",
       "      <th>FINANZ_UNAUFFAELLIGER</th>\n",
       "      <th>FINANZ_HAUSBAUER</th>\n",
       "      <th>...</th>\n",
       "      <th>PLZ8_ANTG1</th>\n",
       "      <th>PLZ8_ANTG2</th>\n",
       "      <th>PLZ8_ANTG3</th>\n",
       "      <th>PLZ8_ANTG4</th>\n",
       "      <th>PLZ8_BAUMAX</th>\n",
       "      <th>PLZ8_HHZ</th>\n",
       "      <th>PLZ8_GBZ</th>\n",
       "      <th>ARBEIT</th>\n",
       "      <th>ORTSGR_KLS9</th>\n",
       "      <th>RELAT_AB</th>\n",
       "    </tr>\n",
       "  </thead>\n",
       "  <tbody>\n",
       "    <tr>\n",
       "      <th>count</th>\n",
       "      <td>891221.000000</td>\n",
       "      <td>891221.000000</td>\n",
       "      <td>891221.000000</td>\n",
       "      <td>886367.000000</td>\n",
       "      <td>891221.000000</td>\n",
       "      <td>891221.000000</td>\n",
       "      <td>891221.000000</td>\n",
       "      <td>891221.000000</td>\n",
       "      <td>891221.000000</td>\n",
       "      <td>891221.000000</td>\n",
       "      <td>...</td>\n",
       "      <td>774706.000000</td>\n",
       "      <td>774706.000000</td>\n",
       "      <td>774706.000000</td>\n",
       "      <td>774706.000000</td>\n",
       "      <td>774706.000000</td>\n",
       "      <td>774706.000000</td>\n",
       "      <td>774706.000000</td>\n",
       "      <td>794005.000000</td>\n",
       "      <td>794005.000000</td>\n",
       "      <td>794005.00000</td>\n",
       "    </tr>\n",
       "    <tr>\n",
       "      <th>mean</th>\n",
       "      <td>-0.358435</td>\n",
       "      <td>2.777398</td>\n",
       "      <td>1.522098</td>\n",
       "      <td>3.632838</td>\n",
       "      <td>3.074528</td>\n",
       "      <td>2.821039</td>\n",
       "      <td>3.401106</td>\n",
       "      <td>3.033328</td>\n",
       "      <td>2.874167</td>\n",
       "      <td>3.075121</td>\n",
       "      <td>...</td>\n",
       "      <td>2.253330</td>\n",
       "      <td>2.801858</td>\n",
       "      <td>1.595426</td>\n",
       "      <td>0.699166</td>\n",
       "      <td>1.943913</td>\n",
       "      <td>3.612821</td>\n",
       "      <td>3.381087</td>\n",
       "      <td>3.167854</td>\n",
       "      <td>5.293002</td>\n",
       "      <td>3.07222</td>\n",
       "    </tr>\n",
       "    <tr>\n",
       "      <th>std</th>\n",
       "      <td>1.198724</td>\n",
       "      <td>1.068775</td>\n",
       "      <td>0.499512</td>\n",
       "      <td>1.595021</td>\n",
       "      <td>1.321055</td>\n",
       "      <td>1.464749</td>\n",
       "      <td>1.322134</td>\n",
       "      <td>1.529603</td>\n",
       "      <td>1.486731</td>\n",
       "      <td>1.353248</td>\n",
       "      <td>...</td>\n",
       "      <td>0.972008</td>\n",
       "      <td>0.920309</td>\n",
       "      <td>0.986736</td>\n",
       "      <td>0.727137</td>\n",
       "      <td>1.459654</td>\n",
       "      <td>0.973967</td>\n",
       "      <td>1.111598</td>\n",
       "      <td>1.002376</td>\n",
       "      <td>2.303739</td>\n",
       "      <td>1.36298</td>\n",
       "    </tr>\n",
       "    <tr>\n",
       "      <th>min</th>\n",
       "      <td>-1.000000</td>\n",
       "      <td>1.000000</td>\n",
       "      <td>1.000000</td>\n",
       "      <td>1.000000</td>\n",
       "      <td>1.000000</td>\n",
       "      <td>1.000000</td>\n",
       "      <td>1.000000</td>\n",
       "      <td>1.000000</td>\n",
       "      <td>1.000000</td>\n",
       "      <td>1.000000</td>\n",
       "      <td>...</td>\n",
       "      <td>0.000000</td>\n",
       "      <td>0.000000</td>\n",
       "      <td>0.000000</td>\n",
       "      <td>0.000000</td>\n",
       "      <td>1.000000</td>\n",
       "      <td>1.000000</td>\n",
       "      <td>1.000000</td>\n",
       "      <td>1.000000</td>\n",
       "      <td>0.000000</td>\n",
       "      <td>1.00000</td>\n",
       "    </tr>\n",
       "    <tr>\n",
       "      <th>25%</th>\n",
       "      <td>-1.000000</td>\n",
       "      <td>2.000000</td>\n",
       "      <td>1.000000</td>\n",
       "      <td>2.000000</td>\n",
       "      <td>2.000000</td>\n",
       "      <td>1.000000</td>\n",
       "      <td>3.000000</td>\n",
       "      <td>2.000000</td>\n",
       "      <td>2.000000</td>\n",
       "      <td>2.000000</td>\n",
       "      <td>...</td>\n",
       "      <td>1.000000</td>\n",
       "      <td>2.000000</td>\n",
       "      <td>1.000000</td>\n",
       "      <td>0.000000</td>\n",
       "      <td>1.000000</td>\n",
       "      <td>3.000000</td>\n",
       "      <td>3.000000</td>\n",
       "      <td>3.000000</td>\n",
       "      <td>4.000000</td>\n",
       "      <td>2.00000</td>\n",
       "    </tr>\n",
       "    <tr>\n",
       "      <th>50%</th>\n",
       "      <td>-1.000000</td>\n",
       "      <td>3.000000</td>\n",
       "      <td>2.000000</td>\n",
       "      <td>4.000000</td>\n",
       "      <td>3.000000</td>\n",
       "      <td>3.000000</td>\n",
       "      <td>3.000000</td>\n",
       "      <td>3.000000</td>\n",
       "      <td>3.000000</td>\n",
       "      <td>3.000000</td>\n",
       "      <td>...</td>\n",
       "      <td>2.000000</td>\n",
       "      <td>3.000000</td>\n",
       "      <td>2.000000</td>\n",
       "      <td>1.000000</td>\n",
       "      <td>1.000000</td>\n",
       "      <td>4.000000</td>\n",
       "      <td>3.000000</td>\n",
       "      <td>3.000000</td>\n",
       "      <td>5.000000</td>\n",
       "      <td>3.00000</td>\n",
       "    </tr>\n",
       "    <tr>\n",
       "      <th>75%</th>\n",
       "      <td>-1.000000</td>\n",
       "      <td>4.000000</td>\n",
       "      <td>2.000000</td>\n",
       "      <td>5.000000</td>\n",
       "      <td>4.000000</td>\n",
       "      <td>4.000000</td>\n",
       "      <td>5.000000</td>\n",
       "      <td>5.000000</td>\n",
       "      <td>4.000000</td>\n",
       "      <td>4.000000</td>\n",
       "      <td>...</td>\n",
       "      <td>3.000000</td>\n",
       "      <td>3.000000</td>\n",
       "      <td>2.000000</td>\n",
       "      <td>1.000000</td>\n",
       "      <td>3.000000</td>\n",
       "      <td>4.000000</td>\n",
       "      <td>4.000000</td>\n",
       "      <td>4.000000</td>\n",
       "      <td>7.000000</td>\n",
       "      <td>4.00000</td>\n",
       "    </tr>\n",
       "    <tr>\n",
       "      <th>max</th>\n",
       "      <td>3.000000</td>\n",
       "      <td>9.000000</td>\n",
       "      <td>2.000000</td>\n",
       "      <td>6.000000</td>\n",
       "      <td>5.000000</td>\n",
       "      <td>5.000000</td>\n",
       "      <td>5.000000</td>\n",
       "      <td>5.000000</td>\n",
       "      <td>5.000000</td>\n",
       "      <td>5.000000</td>\n",
       "      <td>...</td>\n",
       "      <td>4.000000</td>\n",
       "      <td>4.000000</td>\n",
       "      <td>3.000000</td>\n",
       "      <td>2.000000</td>\n",
       "      <td>5.000000</td>\n",
       "      <td>5.000000</td>\n",
       "      <td>5.000000</td>\n",
       "      <td>9.000000</td>\n",
       "      <td>9.000000</td>\n",
       "      <td>9.00000</td>\n",
       "    </tr>\n",
       "  </tbody>\n",
       "</table>\n",
       "<p>8 rows × 81 columns</p>\n",
       "</div>"
      ],
      "text/plain": [
       "            AGER_TYP  ALTERSKATEGORIE_GROB      ANREDE_KZ  CJT_GESAMTTYP  \\\n",
       "count  891221.000000         891221.000000  891221.000000  886367.000000   \n",
       "mean       -0.358435              2.777398       1.522098       3.632838   \n",
       "std         1.198724              1.068775       0.499512       1.595021   \n",
       "min        -1.000000              1.000000       1.000000       1.000000   \n",
       "25%        -1.000000              2.000000       1.000000       2.000000   \n",
       "50%        -1.000000              3.000000       2.000000       4.000000   \n",
       "75%        -1.000000              4.000000       2.000000       5.000000   \n",
       "max         3.000000              9.000000       2.000000       6.000000   \n",
       "\n",
       "       FINANZ_MINIMALIST  FINANZ_SPARER  FINANZ_VORSORGER  FINANZ_ANLEGER  \\\n",
       "count      891221.000000  891221.000000     891221.000000   891221.000000   \n",
       "mean            3.074528       2.821039          3.401106        3.033328   \n",
       "std             1.321055       1.464749          1.322134        1.529603   \n",
       "min             1.000000       1.000000          1.000000        1.000000   \n",
       "25%             2.000000       1.000000          3.000000        2.000000   \n",
       "50%             3.000000       3.000000          3.000000        3.000000   \n",
       "75%             4.000000       4.000000          5.000000        5.000000   \n",
       "max             5.000000       5.000000          5.000000        5.000000   \n",
       "\n",
       "       FINANZ_UNAUFFAELLIGER  FINANZ_HAUSBAUER      ...          PLZ8_ANTG1  \\\n",
       "count          891221.000000     891221.000000      ...       774706.000000   \n",
       "mean                2.874167          3.075121      ...            2.253330   \n",
       "std                 1.486731          1.353248      ...            0.972008   \n",
       "min                 1.000000          1.000000      ...            0.000000   \n",
       "25%                 2.000000          2.000000      ...            1.000000   \n",
       "50%                 3.000000          3.000000      ...            2.000000   \n",
       "75%                 4.000000          4.000000      ...            3.000000   \n",
       "max                 5.000000          5.000000      ...            4.000000   \n",
       "\n",
       "          PLZ8_ANTG2     PLZ8_ANTG3     PLZ8_ANTG4    PLZ8_BAUMAX  \\\n",
       "count  774706.000000  774706.000000  774706.000000  774706.000000   \n",
       "mean        2.801858       1.595426       0.699166       1.943913   \n",
       "std         0.920309       0.986736       0.727137       1.459654   \n",
       "min         0.000000       0.000000       0.000000       1.000000   \n",
       "25%         2.000000       1.000000       0.000000       1.000000   \n",
       "50%         3.000000       2.000000       1.000000       1.000000   \n",
       "75%         3.000000       2.000000       1.000000       3.000000   \n",
       "max         4.000000       3.000000       2.000000       5.000000   \n",
       "\n",
       "            PLZ8_HHZ       PLZ8_GBZ         ARBEIT    ORTSGR_KLS9  \\\n",
       "count  774706.000000  774706.000000  794005.000000  794005.000000   \n",
       "mean        3.612821       3.381087       3.167854       5.293002   \n",
       "std         0.973967       1.111598       1.002376       2.303739   \n",
       "min         1.000000       1.000000       1.000000       0.000000   \n",
       "25%         3.000000       3.000000       3.000000       4.000000   \n",
       "50%         4.000000       3.000000       3.000000       5.000000   \n",
       "75%         4.000000       4.000000       4.000000       7.000000   \n",
       "max         5.000000       5.000000       9.000000       9.000000   \n",
       "\n",
       "           RELAT_AB  \n",
       "count  794005.00000  \n",
       "mean        3.07222  \n",
       "std         1.36298  \n",
       "min         1.00000  \n",
       "25%         2.00000  \n",
       "50%         3.00000  \n",
       "75%         4.00000  \n",
       "max         9.00000  \n",
       "\n",
       "[8 rows x 81 columns]"
      ]
     },
     "execution_count": 5,
     "metadata": {},
     "output_type": "execute_result"
    }
   ],
   "source": [
    "azdias.describe()"
   ]
  },
  {
   "cell_type": "code",
   "execution_count": 6,
   "metadata": {},
   "outputs": [
    {
     "name": "stdout",
     "output_type": "stream",
     "text": [
      "<class 'pandas.core.frame.DataFrame'>\n",
      "RangeIndex: 891221 entries, 0 to 891220\n",
      "Data columns (total 85 columns):\n",
      "AGER_TYP                 891221 non-null int64\n",
      "ALTERSKATEGORIE_GROB     891221 non-null int64\n",
      "ANREDE_KZ                891221 non-null int64\n",
      "CJT_GESAMTTYP            886367 non-null float64\n",
      "FINANZ_MINIMALIST        891221 non-null int64\n",
      "FINANZ_SPARER            891221 non-null int64\n",
      "FINANZ_VORSORGER         891221 non-null int64\n",
      "FINANZ_ANLEGER           891221 non-null int64\n",
      "FINANZ_UNAUFFAELLIGER    891221 non-null int64\n",
      "FINANZ_HAUSBAUER         891221 non-null int64\n",
      "FINANZTYP                891221 non-null int64\n",
      "GEBURTSJAHR              891221 non-null int64\n",
      "GFK_URLAUBERTYP          886367 non-null float64\n",
      "GREEN_AVANTGARDE         891221 non-null int64\n",
      "HEALTH_TYP               891221 non-null int64\n",
      "LP_LEBENSPHASE_FEIN      886367 non-null float64\n",
      "LP_LEBENSPHASE_GROB      886367 non-null float64\n",
      "LP_FAMILIE_FEIN          886367 non-null float64\n",
      "LP_FAMILIE_GROB          886367 non-null float64\n",
      "LP_STATUS_FEIN           886367 non-null float64\n",
      "LP_STATUS_GROB           886367 non-null float64\n",
      "NATIONALITAET_KZ         891221 non-null int64\n",
      "PRAEGENDE_JUGENDJAHRE    891221 non-null int64\n",
      "RETOURTYP_BK_S           886367 non-null float64\n",
      "SEMIO_SOZ                891221 non-null int64\n",
      "SEMIO_FAM                891221 non-null int64\n",
      "SEMIO_REL                891221 non-null int64\n",
      "SEMIO_MAT                891221 non-null int64\n",
      "SEMIO_VERT               891221 non-null int64\n",
      "SEMIO_LUST               891221 non-null int64\n",
      "SEMIO_ERL                891221 non-null int64\n",
      "SEMIO_KULT               891221 non-null int64\n",
      "SEMIO_RAT                891221 non-null int64\n",
      "SEMIO_KRIT               891221 non-null int64\n",
      "SEMIO_DOM                891221 non-null int64\n",
      "SEMIO_KAEM               891221 non-null int64\n",
      "SEMIO_PFLICHT            891221 non-null int64\n",
      "SEMIO_TRADV              891221 non-null int64\n",
      "SHOPPER_TYP              891221 non-null int64\n",
      "SOHO_KZ                  817722 non-null float64\n",
      "TITEL_KZ                 817722 non-null float64\n",
      "VERS_TYP                 891221 non-null int64\n",
      "ZABEOTYP                 891221 non-null int64\n",
      "ALTER_HH                 817722 non-null float64\n",
      "ANZ_PERSONEN             817722 non-null float64\n",
      "ANZ_TITEL                817722 non-null float64\n",
      "HH_EINKOMMEN_SCORE       872873 non-null float64\n",
      "KK_KUNDENTYP             306609 non-null float64\n",
      "W_KEIT_KIND_HH           783619 non-null float64\n",
      "WOHNDAUER_2008           817722 non-null float64\n",
      "ANZ_HAUSHALTE_AKTIV      798073 non-null float64\n",
      "ANZ_HH_TITEL             794213 non-null float64\n",
      "GEBAEUDETYP              798073 non-null float64\n",
      "KONSUMNAEHE              817252 non-null float64\n",
      "MIN_GEBAEUDEJAHR         798073 non-null float64\n",
      "OST_WEST_KZ              798073 non-null object\n",
      "WOHNLAGE                 798073 non-null float64\n",
      "CAMEO_DEUG_2015          792242 non-null object\n",
      "CAMEO_DEU_2015           792242 non-null object\n",
      "CAMEO_INTL_2015          792242 non-null object\n",
      "KBA05_ANTG1              757897 non-null float64\n",
      "KBA05_ANTG2              757897 non-null float64\n",
      "KBA05_ANTG3              757897 non-null float64\n",
      "KBA05_ANTG4              757897 non-null float64\n",
      "KBA05_BAUMAX             757897 non-null float64\n",
      "KBA05_GBZ                757897 non-null float64\n",
      "BALLRAUM                 797481 non-null float64\n",
      "EWDICHTE                 797481 non-null float64\n",
      "INNENSTADT               797481 non-null float64\n",
      "GEBAEUDETYP_RASTER       798066 non-null float64\n",
      "KKK                      770025 non-null float64\n",
      "MOBI_REGIO               757897 non-null float64\n",
      "ONLINE_AFFINITAET        886367 non-null float64\n",
      "REGIOTYP                 770025 non-null float64\n",
      "KBA13_ANZAHL_PKW         785421 non-null float64\n",
      "PLZ8_ANTG1               774706 non-null float64\n",
      "PLZ8_ANTG2               774706 non-null float64\n",
      "PLZ8_ANTG3               774706 non-null float64\n",
      "PLZ8_ANTG4               774706 non-null float64\n",
      "PLZ8_BAUMAX              774706 non-null float64\n",
      "PLZ8_HHZ                 774706 non-null float64\n",
      "PLZ8_GBZ                 774706 non-null float64\n",
      "ARBEIT                   794005 non-null float64\n",
      "ORTSGR_KLS9              794005 non-null float64\n",
      "RELAT_AB                 794005 non-null float64\n",
      "dtypes: float64(49), int64(32), object(4)\n",
      "memory usage: 578.0+ MB\n"
     ]
    }
   ],
   "source": [
    "azdias.info()"
   ]
  },
  {
   "cell_type": "code",
   "execution_count": 7,
   "metadata": {},
   "outputs": [
    {
     "data": {
      "text/html": [
       "<div>\n",
       "<style scoped>\n",
       "    .dataframe tbody tr th:only-of-type {\n",
       "        vertical-align: middle;\n",
       "    }\n",
       "\n",
       "    .dataframe tbody tr th {\n",
       "        vertical-align: top;\n",
       "    }\n",
       "\n",
       "    .dataframe thead th {\n",
       "        text-align: right;\n",
       "    }\n",
       "</style>\n",
       "<table border=\"1\" class=\"dataframe\">\n",
       "  <thead>\n",
       "    <tr style=\"text-align: right;\">\n",
       "      <th></th>\n",
       "      <th>attribute</th>\n",
       "      <th>information_level</th>\n",
       "      <th>type</th>\n",
       "      <th>missing_or_unknown</th>\n",
       "    </tr>\n",
       "  </thead>\n",
       "  <tbody>\n",
       "    <tr>\n",
       "      <th>0</th>\n",
       "      <td>AGER_TYP</td>\n",
       "      <td>person</td>\n",
       "      <td>categorical</td>\n",
       "      <td>[-1,0]</td>\n",
       "    </tr>\n",
       "    <tr>\n",
       "      <th>1</th>\n",
       "      <td>ALTERSKATEGORIE_GROB</td>\n",
       "      <td>person</td>\n",
       "      <td>ordinal</td>\n",
       "      <td>[-1,0,9]</td>\n",
       "    </tr>\n",
       "    <tr>\n",
       "      <th>2</th>\n",
       "      <td>ANREDE_KZ</td>\n",
       "      <td>person</td>\n",
       "      <td>categorical</td>\n",
       "      <td>[-1,0]</td>\n",
       "    </tr>\n",
       "    <tr>\n",
       "      <th>3</th>\n",
       "      <td>CJT_GESAMTTYP</td>\n",
       "      <td>person</td>\n",
       "      <td>categorical</td>\n",
       "      <td>[0]</td>\n",
       "    </tr>\n",
       "    <tr>\n",
       "      <th>4</th>\n",
       "      <td>FINANZ_MINIMALIST</td>\n",
       "      <td>person</td>\n",
       "      <td>ordinal</td>\n",
       "      <td>[-1]</td>\n",
       "    </tr>\n",
       "  </tbody>\n",
       "</table>\n",
       "</div>"
      ],
      "text/plain": [
       "              attribute information_level         type missing_or_unknown\n",
       "0              AGER_TYP            person  categorical             [-1,0]\n",
       "1  ALTERSKATEGORIE_GROB            person      ordinal           [-1,0,9]\n",
       "2             ANREDE_KZ            person  categorical             [-1,0]\n",
       "3         CJT_GESAMTTYP            person  categorical                [0]\n",
       "4     FINANZ_MINIMALIST            person      ordinal               [-1]"
      ]
     },
     "execution_count": 7,
     "metadata": {},
     "output_type": "execute_result"
    }
   ],
   "source": [
    "feat_info.head()"
   ]
  },
  {
   "cell_type": "code",
   "execution_count": 8,
   "metadata": {},
   "outputs": [
    {
     "data": {
      "text/html": [
       "<div>\n",
       "<style scoped>\n",
       "    .dataframe tbody tr th:only-of-type {\n",
       "        vertical-align: middle;\n",
       "    }\n",
       "\n",
       "    .dataframe tbody tr th {\n",
       "        vertical-align: top;\n",
       "    }\n",
       "\n",
       "    .dataframe thead th {\n",
       "        text-align: right;\n",
       "    }\n",
       "</style>\n",
       "<table border=\"1\" class=\"dataframe\">\n",
       "  <thead>\n",
       "    <tr style=\"text-align: right;\">\n",
       "      <th></th>\n",
       "      <th>attribute</th>\n",
       "      <th>information_level</th>\n",
       "      <th>type</th>\n",
       "      <th>missing_or_unknown</th>\n",
       "    </tr>\n",
       "  </thead>\n",
       "  <tbody>\n",
       "    <tr>\n",
       "      <th>count</th>\n",
       "      <td>85</td>\n",
       "      <td>85</td>\n",
       "      <td>85</td>\n",
       "      <td>85</td>\n",
       "    </tr>\n",
       "    <tr>\n",
       "      <th>unique</th>\n",
       "      <td>85</td>\n",
       "      <td>9</td>\n",
       "      <td>5</td>\n",
       "      <td>9</td>\n",
       "    </tr>\n",
       "    <tr>\n",
       "      <th>top</th>\n",
       "      <td>SEMIO_SOZ</td>\n",
       "      <td>person</td>\n",
       "      <td>ordinal</td>\n",
       "      <td>[-1]</td>\n",
       "    </tr>\n",
       "    <tr>\n",
       "      <th>freq</th>\n",
       "      <td>1</td>\n",
       "      <td>43</td>\n",
       "      <td>49</td>\n",
       "      <td>26</td>\n",
       "    </tr>\n",
       "  </tbody>\n",
       "</table>\n",
       "</div>"
      ],
      "text/plain": [
       "        attribute information_level     type missing_or_unknown\n",
       "count          85                85       85                 85\n",
       "unique         85                 9        5                  9\n",
       "top     SEMIO_SOZ            person  ordinal               [-1]\n",
       "freq            1                43       49                 26"
      ]
     },
     "execution_count": 8,
     "metadata": {},
     "output_type": "execute_result"
    }
   ],
   "source": [
    "feat_info.describe()"
   ]
  },
  {
   "cell_type": "code",
   "execution_count": 9,
   "metadata": {},
   "outputs": [
    {
     "name": "stdout",
     "output_type": "stream",
     "text": [
      "<class 'pandas.core.frame.DataFrame'>\n",
      "RangeIndex: 85 entries, 0 to 84\n",
      "Data columns (total 4 columns):\n",
      "attribute             85 non-null object\n",
      "information_level     85 non-null object\n",
      "type                  85 non-null object\n",
      "missing_or_unknown    85 non-null object\n",
      "dtypes: object(4)\n",
      "memory usage: 2.7+ KB\n"
     ]
    }
   ],
   "source": [
    "feat_info.info()"
   ]
  },
  {
   "cell_type": "markdown",
   "metadata": {},
   "source": [
    "> **Tip**: Add additional cells to keep everything in reasonably-sized chunks! Keyboard shortcut `esc --> a` (press escape to enter command mode, then press the 'A' key) adds a new cell before the active cell, and `esc --> b` adds a new cell after the active cell. If you need to convert an active cell to a markdown cell, use `esc --> m` and to convert to a code cell, use `esc --> y`. \n",
    "\n",
    "## Step 1: Preprocessing\n",
    "\n",
    "### Step 1.1: Assess Missing Data\n",
    "\n",
    "The feature summary file contains a summary of properties for each demographics data column. You will use this file to help you make cleaning decisions during this stage of the project. First of all, you should assess the demographics data in terms of missing data. Pay attention to the following points as you perform your analysis, and take notes on what you observe. Make sure that you fill in the **Discussion** cell with your findings and decisions at the end of each step that has one!\n",
    "\n",
    "#### Step 1.1.1: Convert Missing Value Codes to NaNs\n",
    "The fourth column of the feature attributes summary (loaded in above as `feat_info`) documents the codes from the data dictionary that indicate missing or unknown data. While the file encodes this as a list (e.g. `[-1,0]`), this will get read in as a string object. You'll need to do a little bit of parsing to make use of it to identify and clean the data. Convert data that matches a 'missing' or 'unknown' value code into a numpy NaN value. You might want to see how much data takes on a 'missing' or 'unknown' code, and how much data is naturally missing, as a point of interest.\n",
    "\n",
    "**As one more reminder, you are encouraged to add additional cells to break up your analysis into manageable chunks.**"
   ]
  },
  {
   "cell_type": "code",
   "execution_count": 10,
   "metadata": {},
   "outputs": [
    {
     "name": "stdout",
     "output_type": "stream",
     "text": [
      "The number of values that are naturally missing in the demographic dataset is 4896838\n"
     ]
    }
   ],
   "source": [
    "# Identify missing or unknown data values and convert them to NaNs.\n",
    "# First let's look at how many values are 'naturally' missing\n",
    "\n",
    "print('The number of values that are naturally missing in the demographic dataset is {}'.format(azdias.isnull().sum().sum()))\n"
   ]
  },
  {
   "cell_type": "code",
   "execution_count": 11,
   "metadata": {},
   "outputs": [
    {
     "data": {
      "text/html": [
       "<div>\n",
       "<style scoped>\n",
       "    .dataframe tbody tr th:only-of-type {\n",
       "        vertical-align: middle;\n",
       "    }\n",
       "\n",
       "    .dataframe tbody tr th {\n",
       "        vertical-align: top;\n",
       "    }\n",
       "\n",
       "    .dataframe thead th {\n",
       "        text-align: right;\n",
       "    }\n",
       "</style>\n",
       "<table border=\"1\" class=\"dataframe\">\n",
       "  <thead>\n",
       "    <tr style=\"text-align: right;\">\n",
       "      <th></th>\n",
       "      <th>attribute</th>\n",
       "      <th>information_level</th>\n",
       "      <th>type</th>\n",
       "      <th>missing_or_unknown</th>\n",
       "    </tr>\n",
       "  </thead>\n",
       "  <tbody>\n",
       "    <tr>\n",
       "      <th>0</th>\n",
       "      <td>AGER_TYP</td>\n",
       "      <td>person</td>\n",
       "      <td>categorical</td>\n",
       "      <td>[-1,0]</td>\n",
       "    </tr>\n",
       "    <tr>\n",
       "      <th>1</th>\n",
       "      <td>ALTERSKATEGORIE_GROB</td>\n",
       "      <td>person</td>\n",
       "      <td>ordinal</td>\n",
       "      <td>[-1,0,9]</td>\n",
       "    </tr>\n",
       "    <tr>\n",
       "      <th>2</th>\n",
       "      <td>ANREDE_KZ</td>\n",
       "      <td>person</td>\n",
       "      <td>categorical</td>\n",
       "      <td>[-1,0]</td>\n",
       "    </tr>\n",
       "    <tr>\n",
       "      <th>3</th>\n",
       "      <td>CJT_GESAMTTYP</td>\n",
       "      <td>person</td>\n",
       "      <td>categorical</td>\n",
       "      <td>[0]</td>\n",
       "    </tr>\n",
       "    <tr>\n",
       "      <th>4</th>\n",
       "      <td>FINANZ_MINIMALIST</td>\n",
       "      <td>person</td>\n",
       "      <td>ordinal</td>\n",
       "      <td>[-1]</td>\n",
       "    </tr>\n",
       "  </tbody>\n",
       "</table>\n",
       "</div>"
      ],
      "text/plain": [
       "              attribute information_level         type missing_or_unknown\n",
       "0              AGER_TYP            person  categorical             [-1,0]\n",
       "1  ALTERSKATEGORIE_GROB            person      ordinal           [-1,0,9]\n",
       "2             ANREDE_KZ            person  categorical             [-1,0]\n",
       "3         CJT_GESAMTTYP            person  categorical                [0]\n",
       "4     FINANZ_MINIMALIST            person      ordinal               [-1]"
      ]
     },
     "execution_count": 11,
     "metadata": {},
     "output_type": "execute_result"
    }
   ],
   "source": [
    "feat_info.head()"
   ]
  },
  {
   "cell_type": "code",
   "execution_count": 12,
   "metadata": {},
   "outputs": [],
   "source": [
    "# Now, lets identify missing or unknown values and convert them into NaNs\n",
    "\n",
    "for col in range(azdias.shape[1]):\n",
    "    col_name = azdias.columns[col]\n",
    "    missing_or_unknown = feat_info.iloc[col,3]\n",
    "    missing_or_unknown = missing_or_unknown.strip('[')\n",
    "    missing_or_unknown = missing_or_unknown.strip (']')\n",
    "    missing_or_unknown = missing_or_unknown.split(',')\n",
    "    \n",
    "    if missing_or_unknown == ['']:\n",
    "        continue\n",
    "    else:\n",
    "        for val in missing_or_unknown:\n",
    "            if azdias[col_name].dtype == 'object':\n",
    "                azdias.loc[azdias[col_name] == val,col_name] = np.nan\n",
    "            else:\n",
    "                val = int(val)\n",
    "                azdias.loc[azdias[col_name] == val,col_name] = np.nan"
   ]
  },
  {
   "cell_type": "code",
   "execution_count": 13,
   "metadata": {},
   "outputs": [],
   "source": [
    "azdias.to_csv('azdias_na.csv')"
   ]
  },
  {
   "cell_type": "code",
   "execution_count": 14,
   "metadata": {},
   "outputs": [
    {
     "name": "stdout",
     "output_type": "stream",
     "text": [
      "The number of values that are still missing after the conversion is 8373929\n"
     ]
    }
   ],
   "source": [
    "print('The number of values that are still missing after the conversion is {}'.format(azdias.isnull().sum().sum()))"
   ]
  },
  {
   "cell_type": "markdown",
   "metadata": {},
   "source": [
    "As can been seen above, before the conversion there were 4,896,838 number of missing values and after there were 8,373,929. Hence, further 3,5 million missing or unknown values have been identified and correctly labelled as NaN"
   ]
  },
  {
   "cell_type": "markdown",
   "metadata": {},
   "source": [
    "#### Step 1.1.2: Assess Missing Data in Each Column\n",
    "\n",
    "How much missing data is present in each column? There are a few columns that are outliers in terms of the proportion of values that are missing. You will want to use matplotlib's [`hist()`](https://matplotlib.org/api/_as_gen/matplotlib.pyplot.hist.html) function to visualize the distribution of missing value counts to find these columns. Identify and document these columns. While some of these columns might have justifications for keeping or re-encoding the data, for this project you should just remove them from the dataframe. (Feel free to make remarks about these outlier columns in the discussion, however!)\n",
    "\n",
    "For the remaining features, are there any patterns in which columns have, or share, missing data?"
   ]
  },
  {
   "cell_type": "code",
   "execution_count": 15,
   "metadata": {},
   "outputs": [
    {
     "name": "stdout",
     "output_type": "stream",
     "text": [
      "TITEL_KZ                 889061\n",
      "AGER_TYP                 685843\n",
      "KK_KUNDENTYP             584612\n",
      "KBA05_BAUMAX             476524\n",
      "GEBURTSJAHR              392318\n",
      "ALTER_HH                 310267\n",
      "REGIOTYP                 158064\n",
      "KKK                      158064\n",
      "W_KEIT_KIND_HH           147988\n",
      "KBA05_ANTG4              133324\n",
      "KBA05_GBZ                133324\n",
      "MOBI_REGIO               133324\n",
      "KBA05_ANTG1              133324\n",
      "KBA05_ANTG2              133324\n",
      "KBA05_ANTG3              133324\n",
      "PLZ8_GBZ                 116515\n",
      "PLZ8_HHZ                 116515\n",
      "PLZ8_BAUMAX              116515\n",
      "PLZ8_ANTG4               116515\n",
      "PLZ8_ANTG1               116515\n",
      "PLZ8_ANTG3               116515\n",
      "PLZ8_ANTG2               116515\n",
      "SHOPPER_TYP              111196\n",
      "VERS_TYP                 111196\n",
      "HEALTH_TYP               111196\n",
      "NATIONALITAET_KZ         108315\n",
      "PRAEGENDE_JUGENDJAHRE    108164\n",
      "KBA13_ANZAHL_PKW         105800\n",
      "ANZ_HAUSHALTE_AKTIV       99611\n",
      "CAMEO_INTL_2015           99352\n",
      "                          ...  \n",
      "RETOURTYP_BK_S             4854\n",
      "ONLINE_AFFINITAET          4854\n",
      "LP_STATUS_FEIN             4854\n",
      "LP_STATUS_GROB             4854\n",
      "GFK_URLAUBERTYP            4854\n",
      "ALTERSKATEGORIE_GROB       2881\n",
      "FINANZTYP                     0\n",
      "GREEN_AVANTGARDE              0\n",
      "FINANZ_HAUSBAUER              0\n",
      "FINANZ_UNAUFFAELLIGER         0\n",
      "FINANZ_ANLEGER                0\n",
      "FINANZ_SPARER                 0\n",
      "FINANZ_MINIMALIST             0\n",
      "ANREDE_KZ                     0\n",
      "FINANZ_VORSORGER              0\n",
      "SEMIO_FAM                     0\n",
      "SEMIO_SOZ                     0\n",
      "SEMIO_REL                     0\n",
      "SEMIO_MAT                     0\n",
      "SEMIO_VERT                    0\n",
      "SEMIO_LUST                    0\n",
      "SEMIO_ERL                     0\n",
      "SEMIO_KULT                    0\n",
      "SEMIO_RAT                     0\n",
      "SEMIO_KRIT                    0\n",
      "SEMIO_DOM                     0\n",
      "SEMIO_KAEM                    0\n",
      "SEMIO_PFLICHT                 0\n",
      "SEMIO_TRADV                   0\n",
      "ZABEOTYP                      0\n",
      "Length: 85, dtype: int64\n"
     ]
    }
   ],
   "source": [
    "# Perform an assessment of how much missing data there is in each column of the\n",
    "# dataset.\n",
    "#Let's look at how many missing values tehre are in each column\n",
    "\n",
    "na_val = azdias.isnull().sum().sort_values(ascending= False)\n",
    "print(na_val)"
   ]
  },
  {
   "cell_type": "code",
   "execution_count": 16,
   "metadata": {},
   "outputs": [],
   "source": [
    "na_val_p = na_val/(azdias.shape[0])*100"
   ]
  },
  {
   "cell_type": "code",
   "execution_count": 17,
   "metadata": {},
   "outputs": [
    {
     "data": {
      "image/png": "[encoded data removed]",
      "text/plain": [
       "<matplotlib.figure.Figure at 0x7fc72f8a5a90>"
      ]
     },
     "metadata": {
      "needs_background": "light"
     },
     "output_type": "display_data"
    }
   ],
   "source": [
    "# Investigate patterns in the amount of missing data in each column.\n",
    "plt.hist(na_val_p, bins=20, range = (0, 100))\n",
    "\n",
    "plt.xlabel('Percentage of the column values that are missing')\n",
    "plt.ylabel('Number of columns in the dataset')\n",
    "plt.title('Histogram plot of column counts vs the percentage of missing values they contain')\n",
    "plt.grid(True)\n",
    "plt.show()"
   ]
  },
  {
   "cell_type": "markdown",
   "metadata": {},
   "source": [
    "It can be seen above that most columns have under 20% of values being misssing and the rest of the columns are outliers. The columns with more than 20% missing values will be investigated but they are good candidates for being dropped from the dataset going forward"
   ]
  },
  {
   "cell_type": "code",
   "execution_count": 18,
   "metadata": {},
   "outputs": [
    {
     "name": "stdout",
     "output_type": "stream",
     "text": [
      "['AGER_TYP', 'GEBURTSJAHR', 'TITEL_KZ', 'ALTER_HH', 'KK_KUNDENTYP', 'KBA05_BAUMAX']\n"
     ]
    }
   ],
   "source": [
    "#Let's examine the outlier columns in terms of the missing values\n",
    "more_than_20 = [col for col in azdias.columns if (azdias[col].isnull().sum()/azdias.shape[0])*100 > 20]\n",
    "print(more_than_20)\n"
   ]
  },
  {
   "cell_type": "markdown",
   "metadata": {},
   "source": [
    "The above number of column names is as expected, histogram shows 6 instamces of columns containing more than 20% of missing values. Lets examine them further.\n",
    "\n",
    "\n",
    "Looking up in the Data Dictionary\n",
    "    AGER_TYP: Best-ager typology\n",
    "    GEBURTSJAHR: Year of birth\n",
    "    TITEL_KZ: Academic title flag\n",
    "    ALTER_HH: Birthdate of head of household\n",
    "    KK_KUNDENTYP: Consumer pattern over past 12 months\n",
    "    KBA05_BAUMAX: Most common building type within the microcell\n",
    "    \n",
    "From the above explanations, I believe Year of birth and consumer pattern columns could be useful later even if they contain a lot of missing values. Let's see exactly how much missing data do both of these columns contain."
   ]
  },
  {
   "cell_type": "code",
   "execution_count": 19,
   "metadata": {},
   "outputs": [
    {
     "name": "stdout",
     "output_type": "stream",
     "text": [
      "The Year of Birth column (GEBURTSJAHR) contains 44.02028228688507% missing values\n"
     ]
    }
   ],
   "source": [
    "YOB = azdias['GEBURTSJAHR'].isnull().sum()/azdias.shape[0]*100\n",
    "print('The Year of Birth column (GEBURTSJAHR) contains {}% missing values'.format(YOB))"
   ]
  },
  {
   "cell_type": "code",
   "execution_count": 20,
   "metadata": {},
   "outputs": [
    {
     "name": "stdout",
     "output_type": "stream",
     "text": [
      "The Consumer pattern column (KK_KUNDENTYP) contains 65.59674873011295% missing values\n"
     ]
    }
   ],
   "source": [
    "con_pat = azdias['KK_KUNDENTYP'].isnull().sum()/azdias.shape[0]*100\n",
    "print('The Consumer pattern column (KK_KUNDENTYP) contains {}% missing values'.format(con_pat))"
   ]
  },
  {
   "cell_type": "markdown",
   "metadata": {},
   "source": [
    "44% and 65.6% for Year of birth and consumer pattern columns respectively seems to high of a propotion of missing values in a column to be used in analysis later. So all 6 columns which have more than 20% missing values will be removed from the dataset.\n"
   ]
  },
  {
   "cell_type": "code",
   "execution_count": 21,
   "metadata": {},
   "outputs": [],
   "source": [
    "# Remove the outlier columns from the dataset. (You'll perform other data\n",
    "# engineering tasks such as re-encoding and imputation later.)\n",
    "\n",
    "for col in more_than_20:\n",
    "    azdias.drop(col,axis =1, inplace = True)"
   ]
  },
  {
   "cell_type": "code",
   "execution_count": 22,
   "metadata": {},
   "outputs": [
    {
     "data": {
      "text/plain": [
       "79"
      ]
     },
     "execution_count": 22,
     "metadata": {},
     "output_type": "execute_result"
    }
   ],
   "source": [
    "#Checking that the column removal worked as expected. \n",
    "#We had 85 columns to begin with and then we removed 6 columns identified, which should leave us with 79\n",
    "\n",
    "azdias.shape[1]"
   ]
  },
  {
   "cell_type": "markdown",
   "metadata": {},
   "source": [
    "#### Discussion 1.1.2: Assess Missing Data in Each Column\n",
    "\n",
    "As mentioned above, most columns have less than 20% missing data with 6 outliers which contain more. Those columns were identified, with the potentially most useful ones singled out for further investigation, year of birth and consumer pattern. But these had too high levels of missing values. So all 6 columns have been removed from the dataset."
   ]
  },
  {
   "cell_type": "markdown",
   "metadata": {},
   "source": [
    "#### Step 1.1.3: Assess Missing Data in Each Row\n",
    "\n",
    "Now, you'll perform a similar assessment for the rows of the dataset. How much data is missing in each row? As with the columns, you should see some groups of points that have a very different numbers of missing values. Divide the data into two subsets: one for data points that are above some threshold for missing values, and a second subset for points below that threshold.\n",
    "\n",
    "In order to know what to do with the outlier rows, we should see if the distribution of data values on columns that are not missing data (or are missing very little data) are similar or different between the two groups. Select at least five of these columns and compare the distribution of values.\n",
    "- You can use seaborn's [`countplot()`](https://seaborn.pydata.org/generated/seaborn.countplot.html) function to create a bar chart of code frequencies and matplotlib's [`subplot()`](https://matplotlib.org/api/_as_gen/matplotlib.pyplot.subplot.html) function to put bar charts for the two subplots side by side.\n",
    "- To reduce repeated code, you might want to write a function that can perform this comparison, taking as one of its arguments a column to be compared.\n",
    "\n",
    "Depending on what you observe in your comparison, this will have implications on how you approach your conclusions later in the analysis. If the distributions of non-missing features look similar between the data with many missing values and the data with few or no missing values, then we could argue that simply dropping those points from the analysis won't present a major issue. On the other hand, if the data with many missing values looks very different from the data with few or no missing values, then we should make a note on those data as special. We'll revisit these data later on. **Either way, you should continue your analysis for now using just the subset of the data with few or no missing values.**"
   ]
  },
  {
   "cell_type": "code",
   "execution_count": 23,
   "metadata": {},
   "outputs": [
    {
     "data": {
      "image/png": "[encoded data removed]",
      "text/plain": [
       "<matplotlib.figure.Figure at 0x7fc72d5bb4a8>"
      ]
     },
     "metadata": {
      "needs_background": "light"
     },
     "output_type": "display_data"
    }
   ],
   "source": [
    "# How much data is missing in each row of the dataset?\n",
    "row_missing = azdias.isnull().sum(axis = 1)\n",
    "row_missing = row_missing[row_missing>0]/(len(azdias.columns))*100\n",
    "row_missing.sort_values()\n",
    "\n",
    "plt.hist(row_missing, bins=20, range = (0, 100))\n",
    "\n",
    "plt.xlabel('Percentage (%) of columns that the row has a missing value for')\n",
    "plt.ylabel('Number of rows')\n",
    "plt.title('Histogram of missing values in rows')\n",
    "plt.grid(True)"
   ]
  },
  {
   "cell_type": "code",
   "execution_count": 24,
   "metadata": {},
   "outputs": [
    {
     "data": {
      "image/png": "[encoded data removed]",
      "text/plain": [
       "<matplotlib.figure.Figure at 0x7fc72cf05a20>"
      ]
     },
     "metadata": {
      "needs_background": "light"
     },
     "output_type": "display_data"
    }
   ],
   "source": [
    "# I would also like to see the number of columns in absolute values\n",
    "row_missing_v = row_missing[row_missing>0]\n",
    "row_missing_v.sort_values()\n",
    "\n",
    "plt.hist(row_missing_v, bins = 10)\n",
    "\n",
    "plt.xlabel('Number of columns that the row has a missing value for')\n",
    "plt.ylabel('Number of rows')\n",
    "plt.title('Histogram of missing values in rows')\n",
    "plt.grid(True)"
   ]
  },
  {
   "cell_type": "code",
   "execution_count": 25,
   "metadata": {},
   "outputs": [],
   "source": [
    "# Write code to divide the data into two subsets based on the number of missing\n",
    "# values in each row.\n",
    "#It is clear that the two sub-datasets can be separated by looking at the 40% (30 in absolute value) of missing data mark\n",
    "\n",
    "\n",
    "low_missing = azdias[azdias.isnull().sum(axis =1) <30].reset_index(drop = True)\n",
    "high_missing = azdias[azdias.isnull().sum(axis =1) >=30].reset_index(drop = True)\n"
   ]
  },
  {
   "cell_type": "code",
   "execution_count": 26,
   "metadata": {},
   "outputs": [
    {
     "data": {
      "image/png": "[encoded data removed]",
      "text/plain": [
       "<matplotlib.figure.Figure at 0x7fc72d499ac8>"
      ]
     },
     "metadata": {
      "needs_background": "light"
     },
     "output_type": "display_data"
    }
   ],
   "source": [
    "# Compare the distribution of values for at least five columns where there are\n",
    "# no or few missing values, between the two subsets.\n",
    "\n",
    "low_col_names = low_missing.columns\n",
    "\n",
    "def plot_print(col, n):\n",
    "    \n",
    "    fig, axs = plt.subplots(n, 2, figsize = (20,10))\n",
    "    fig.subplots_adjust(hspace = 1.5, wspace = .3)\n",
    "    axs = axs.ravel()\n",
    "    \n",
    "    for i in range (n):\n",
    "        \n",
    "        sns.countplot(low_missing[col[i]], ax = axs[i*2])\n",
    "        axs[i*2].set_title('low_missing')\n",
    "        \n",
    "        sns.countplot(high_missing[col[i]], ax = axs[i*2+1])\n",
    "        axs[i*2+1].set_title('high_missing')\n",
    "        \n",
    "plot_print(low_col_names,5)     "
   ]
  },
  {
   "cell_type": "code",
   "execution_count": 27,
   "metadata": {},
   "outputs": [
    {
     "name": "stdout",
     "output_type": "stream",
     "text": [
      "The percentage of rows in the high_missing dataset, out of the whole dataset is 10.4530750509694%\n"
     ]
    }
   ],
   "source": [
    "# \n",
    "print('The percentage of rows in the high_missing dataset, out of the whole dataset is {}%'.format((high_missing.shape[0]/azdias.shape[0])*100))"
   ]
  },
  {
   "cell_type": "markdown",
   "metadata": {},
   "source": [
    "#### Discussion 1.1.3: Assess Missing Data in Each Row\n",
    "\n",
    "The graphs above show the difference between the two datasets of low (less than 30 columns) missing values vs high (more than 30). The behaviour seems similar for the demographic features like gender and age brackets. However, the two datasets seem to behave differently for the financial variables. Also, lookng at the histograms the two datasets seems to be distincly split with no overlap. \n",
    "\n",
    "I would not be comfortable treating these two sub-sets as one dataset, seeing as their behavious differs significantly. Moreover, the high missing value dataset comprises 10,5% of the original number of columns and hence could be removed from the analysis without losing the 'scale' of the dataset. The high missing sunset of data shall be treated as 'special' and not included in the main analysis. "
   ]
  },
  {
   "cell_type": "markdown",
   "metadata": {},
   "source": [
    "### Step 1.2: Select and Re-Encode Features\n",
    "\n",
    "Checking for missing data isn't the only way in which you can prepare a dataset for analysis. Since the unsupervised learning techniques to be used will only work on data that is encoded numerically, you need to make a few encoding changes or additional assumptions to be able to make progress. In addition, while almost all of the values in the dataset are encoded using numbers, not all of them represent numeric values. Check the third column of the feature summary (`feat_info`) for a summary of types of measurement.\n",
    "- For numeric and interval data, these features can be kept without changes.\n",
    "- Most of the variables in the dataset are ordinal in nature. While ordinal values may technically be non-linear in spacing, make the simplifying assumption that the ordinal variables can be treated as being interval in nature (that is, kept without any changes).\n",
    "- Special handling may be necessary for the remaining two variable types: categorical, and 'mixed'.\n",
    "\n",
    "In the first two parts of this sub-step, you will perform an investigation of the categorical and mixed-type features and make a decision on each of them, whether you will keep, drop, or re-encode each. Then, in the last part, you will create a new data frame with only the selected and engineered columns.\n",
    "\n",
    "Data wrangling is often the trickiest part of the data analysis process, and there's a lot of it to be done here. But stick with it: once you're done with this step, you'll be ready to get to the machine learning parts of the project!"
   ]
  },
  {
   "cell_type": "code",
   "execution_count": 28,
   "metadata": {},
   "outputs": [
    {
     "name": "stdout",
     "output_type": "stream",
     "text": [
      "There are 49 ordinal features.\n",
      "There are 18 categorical features.\n",
      "There are 6 numeric features.\n",
      "There are 6 mixed features.\n"
     ]
    }
   ],
   "source": [
    "# How many features are there of each data type?\n",
    "\n",
    "features = list(low_missing.columns)\n",
    "feat_info_c = feat_info[feat_info['attribute'].isin(features)]\n",
    "data_type = feat_info_c['type'].value_counts()\n",
    "for i in range(len(data_type)):\n",
    "    print('There are {} {} features.'.format(data_type[i], data_type.index[i]))"
   ]
  },
  {
   "cell_type": "markdown",
   "metadata": {},
   "source": [
    "#### Step 1.2.1: Re-Encode Categorical Features\n",
    "\n",
    "For categorical data, you would ordinarily need to encode the levels as dummy variables. Depending on the number of categories, perform one of the following:\n",
    "- For binary (two-level) categoricals that take numeric values, you can keep them without needing to do anything.\n",
    "- There is one binary variable that takes on non-numeric values. For this one, you need to re-encode the values as numbers or create a dummy variable.\n",
    "- For multi-level categoricals (three or more values), you can choose to encode the values using multiple dummy variables (e.g. via [OneHotEncoder](http://scikit-learn.org/stable/modules/generated/sklearn.preprocessing.OneHotEncoder.html)), or (to keep things straightforward) just drop them from the analysis. As always, document your choices in the Discussion section."
   ]
  },
  {
   "cell_type": "code",
   "execution_count": 29,
   "metadata": {},
   "outputs": [],
   "source": [
    "# Assess categorical variables: which are binary, which are multi-level, and\n",
    "# which one needs to be re-encoded?\n",
    "categorical = feat_info_c[feat_info_c[\"type\"]==\"categorical\"][\"attribute\"]\n"
   ]
  },
  {
   "cell_type": "code",
   "execution_count": 30,
   "metadata": {},
   "outputs": [
    {
     "name": "stdout",
     "output_type": "stream",
     "text": [
      "The list of the binary features in the dataset are ['ANREDE_KZ', 'GREEN_AVANTGARDE', 'SOHO_KZ', 'OST_WEST_KZ']\n",
      "The list of the multi-level features in the dataset are ['CJT_GESAMTTYP', 'FINANZTYP', 'GFK_URLAUBERTYP', 'LP_FAMILIE_FEIN', 'LP_FAMILIE_GROB', 'LP_STATUS_FEIN', 'LP_STATUS_GROB', 'NATIONALITAET_KZ', 'SHOPPER_TYP', 'VERS_TYP', 'ZABEOTYP', 'GEBAEUDETYP', 'CAMEO_DEUG_2015', 'CAMEO_DEU_2015']\n"
     ]
    }
   ],
   "source": [
    "#I am going to separate the binary and the multi-level cateorical features, because they are going to be treated differently later on\n",
    "\n",
    "binary = []\n",
    "multi_level=[]\n",
    "for feat in categorical:\n",
    "    if (len(low_missing[feat].unique())==2):\n",
    "        binary.append(feat)\n",
    "    elif (len(low_missing[feat].unique())>2):\n",
    "        multi_level.append(feat)\n",
    "        \n",
    "print('The list of the binary features in the dataset are {}'.format(binary))\n",
    "print('The list of the multi-level features in the dataset are {}'.format(multi_level))"
   ]
  },
  {
   "cell_type": "code",
   "execution_count": 31,
   "metadata": {},
   "outputs": [
    {
     "name": "stdout",
     "output_type": "stream",
     "text": [
      "Values for ANREDE_KZ are [ 2.  1.]\n",
      "Values for GREEN_AVANTGARDE are [0 1]\n",
      "Values for SOHO_KZ are [ 1.  0.]\n",
      "Values for OST_WEST_KZ are ['W' 'O']\n"
     ]
    }
   ],
   "source": [
    "# I also want to see what the values are for the binary features to see if they are non-numeric and need to be encoded\n",
    "\n",
    "for feat in binary:\n",
    "    print('Values for {} are {}'.format(feat, low_missing[feat].unique()))"
   ]
  },
  {
   "cell_type": "code",
   "execution_count": 32,
   "metadata": {},
   "outputs": [],
   "source": [
    "# Re-encode categorical variable(s) to be kept in the analysis.\n",
    "# From the cell above, it can be seen that values for OST_WEST_KZ feature take values W and O, \n",
    "#which need to be transposed to 0 ans 1 respectively to be used in further analysis\n",
    "\n",
    "encode_val = {'W': 0, 'O':1}\n",
    "\n",
    "azdias_ready = low_missing.replace({'OST_WEST_KZ': encode_val})"
   ]
  },
  {
   "cell_type": "code",
   "execution_count": 33,
   "metadata": {},
   "outputs": [
    {
     "name": "stdout",
     "output_type": "stream",
     "text": [
      "Values for ANREDE_KZ are [ 2.  1.]\n",
      "Values for GREEN_AVANTGARDE are [0 1]\n",
      "Values for SOHO_KZ are [ 1.  0.]\n",
      "Values for OST_WEST_KZ are [0 1]\n"
     ]
    }
   ],
   "source": [
    "#Checking that the variable got updated:\n",
    "\n",
    "for feat in binary:\n",
    "    print('Values for {} are {}'.format(feat, azdias_ready[feat].unique()))"
   ]
  },
  {
   "cell_type": "code",
   "execution_count": 34,
   "metadata": {},
   "outputs": [
    {
     "data": {
      "text/plain": [
       "14"
      ]
     },
     "execution_count": 34,
     "metadata": {},
     "output_type": "execute_result"
    }
   ],
   "source": [
    "#Checking how many columns are multi-level categoricals:\n",
    "len(multi_level)"
   ]
  },
  {
   "cell_type": "code",
   "execution_count": 35,
   "metadata": {},
   "outputs": [],
   "source": [
    "# Dropping the multi-level categoricals (3 or more values)\n",
    "\n",
    "for feat in multi_level:\n",
    "    azdias_ready = azdias_ready.drop(feat, axis = 1)"
   ]
  },
  {
   "cell_type": "code",
   "execution_count": 36,
   "metadata": {},
   "outputs": [
    {
     "data": {
      "text/plain": [
       "65"
      ]
     },
     "execution_count": 36,
     "metadata": {},
     "output_type": "execute_result"
    }
   ],
   "source": [
    "# We had 79 columns in the dataset before the drop, so should have 65 columns remaining:\n",
    "\n",
    "azdias_ready.shape[1]"
   ]
  },
  {
   "cell_type": "markdown",
   "metadata": {},
   "source": [
    "#### Discussion 1.2.1: Re-Encode Categorical Features\n",
    "\n",
    "I have first identified the types of features present in the dataset, honing down on categiricals, splitting them into binary (feature takes 2 values) or multi-level (feature takes 3 or more values). \n",
    "\n",
    "Amongst the binary features, there was one that took non numeric values, which I have chnaged to take values 0 and 1.\n",
    "\n",
    "I have removed 14 columns of multi-level features."
   ]
  },
  {
   "cell_type": "markdown",
   "metadata": {},
   "source": [
    "#### Step 1.2.2: Engineer Mixed-Type Features\n",
    "\n",
    "There are a handful of features that are marked as \"mixed\" in the feature summary that require special treatment in order to be included in the analysis. There are two in particular that deserve attention; the handling of the rest are up to your own choices:\n",
    "- \"PRAEGENDE_JUGENDJAHRE\" combines information on three dimensions: generation by decade, movement (mainstream vs. avantgarde), and nation (east vs. west). While there aren't enough levels to disentangle east from west, you should create two new variables to capture the other two dimensions: an interval-type variable for decade, and a binary variable for movement.\n",
    "- \"CAMEO_INTL_2015\" combines information on two axes: wealth and life stage. Break up the two-digit codes by their 'tens'-place and 'ones'-place digits into two new ordinal variables (which, for the purposes of this project, is equivalent to just treating them as their raw numeric values).\n",
    "- If you decide to keep or engineer new features around the other mixed-type features, make sure you note your steps in the Discussion section.\n",
    "\n",
    "Be sure to check `Data_Dictionary.md` for the details needed to finish these tasks."
   ]
  },
  {
   "cell_type": "code",
   "execution_count": 37,
   "metadata": {},
   "outputs": [],
   "source": [
    "# Investigate \"PRAEGENDE_JUGENDJAHRE\" and engineer two new variables.\n",
    "\n",
    "azdias_ready['MOVEMENT'] = azdias_ready['PRAEGENDE_JUGENDJAHRE']\n",
    "azdias_ready['DECADE'] = azdias_ready['PRAEGENDE_JUGENDJAHRE']\n"
   ]
  },
  {
   "cell_type": "code",
   "execution_count": 38,
   "metadata": {},
   "outputs": [],
   "source": [
    "# Now matching the value of PRAEGENDE_JUGENDJAHRE to the meaning in the dictionary\n",
    "# For MOVEMENT: 1 is Mainstream, 0 is Avangarde\n",
    "mov_dict = {1:1, 2:0, 3:1, 4:0, 5:1, 6:0, 7:0, 8:1, 9:0, 10:1, 11:0, 12:1, 13:0, 14:1, 15:0}\n",
    "\n",
    "# For DECADE: 1 is 40s, 2 is 50s, 3 is 60s, 4 is 70s, 5 is 80s, 6 is 90s\n",
    "dec_dict = {1:1, 2:1, 3:2, 4:2, 5:3, 6:3, 7:3, 8:4, 9:4, 10:5, 11:5, 12:5, 13:5, 14:6, 15:6}\n"
   ]
  },
  {
   "cell_type": "code",
   "execution_count": 39,
   "metadata": {},
   "outputs": [],
   "source": [
    "azdias_ready['MOVEMENT'].replace(mov_dict, inplace = True)\n",
    "azdias_ready['DECADE'].replace(mov_dict, inplace = True)"
   ]
  },
  {
   "cell_type": "code",
   "execution_count": 40,
   "metadata": {},
   "outputs": [],
   "source": [
    "# Investigate \"CAMEO_INTL_2015\" and engineer two new variables.\n",
    "\n",
    "azdias_ready['WEALTH'] = azdias_ready['CAMEO_INTL_2015']\n",
    "azdias_ready['LIFE_STAGE'] = azdias_ready['CAMEO_INTL_2015']"
   ]
  },
  {
   "cell_type": "code",
   "execution_count": 41,
   "metadata": {},
   "outputs": [],
   "source": [
    "# Now matching the value of CAMEO_INTL_2015 to the meaning in the dictionary\n",
    "# For WEALTH: 11-15 is 1, 21-25 is 2, 31-35 is 3, 41-45 is 4, 51-55 is 5\n",
    "w_dict = {'11':1, '12':1, '13':1, '14':1, '15':1,\n",
    "          '21':2, '22':2, '23':2, '24':2, '25':2,\n",
    "          '31':3, '32':3, '33':3, '34':3, '35':3,\n",
    "          '41':4, '42':4, '43':4, '44':4, '45':4,\n",
    "          '51':5, '52':5, '53':5, '54':5, '55':5}\n",
    "\n",
    "# For Life stage: (11,21,31,41,51) is 1, (12,22,32,42,52) is 2, (13,23,33,43,53) is 3, (14,24,34,44,54) is 4, (15,25,35,45,55) is 5\n",
    "lf_dict = {'11':1, '12':2, '13':3, '14':4, '15':5, \n",
    "           '21':1, '22':2, '23':3, '24':4, '25':5,\n",
    "           '31':1, '32':2, '33':3, '34':4, '35':5,\n",
    "           '41':1, '42':2, '43':3, '44':4, '45':5,\n",
    "           '51':1, '52':2, '53':3, '54':4, '55':5}"
   ]
  },
  {
   "cell_type": "code",
   "execution_count": 42,
   "metadata": {},
   "outputs": [],
   "source": [
    "\n",
    "azdias_ready['WEALTH'].replace (w_dict, inplace = True)\n",
    "azdias_ready['LIFE_STAGE'].replace (lf_dict, inplace = True)"
   ]
  },
  {
   "cell_type": "code",
   "execution_count": 43,
   "metadata": {},
   "outputs": [
    {
     "data": {
      "text/plain": [
       "69"
      ]
     },
     "execution_count": 43,
     "metadata": {},
     "output_type": "execute_result"
    }
   ],
   "source": [
    "# We have added 4 new columns: MOVEMENT, DECADE, LIFE_STAGE, WEALTH to the existing 65, so we should have 69 columns:\n",
    "\n",
    "azdias_ready.shape[1]"
   ]
  },
  {
   "cell_type": "code",
   "execution_count": 44,
   "metadata": {},
   "outputs": [],
   "source": [
    "# Dropping the mixed- value features\n",
    "\n",
    "azdias_ready = azdias_ready.drop(['PLZ8_BAUMAX',\n",
    "                                  'WOHNLAGE',\n",
    "                                  'LP_LEBENSPHASE_FEIN',\n",
    "                                  'LP_LEBENSPHASE_GROB',\n",
    "                                  'PRAEGENDE_JUGENDJAHRE',\n",
    "                                  'CAMEO_INTL_2015'],\n",
    "                                    axis = 1)\n"
   ]
  },
  {
   "cell_type": "code",
   "execution_count": 45,
   "metadata": {},
   "outputs": [
    {
     "data": {
      "text/plain": [
       "63"
      ]
     },
     "execution_count": 45,
     "metadata": {},
     "output_type": "execute_result"
    }
   ],
   "source": [
    "azdias_ready.shape[1]"
   ]
  },
  {
   "cell_type": "markdown",
   "metadata": {},
   "source": [
    "#### Discussion 1.2.2: Engineer Mixed-Type Features\n",
    "1. I have added two columns (MOVEMENT and DECADE) from the existing PRAEGENDE_JUGENDJAHRE\n",
    "2. I have added two columns (WEALTH and LIFE_STAGE) from the existing CAMEO_INTL_2015\n",
    "\n",
    "From the existing 6 mixed-value variables, 2 columns were extracted from each of the two features above. The rest 4 features have been decided to be dropped. \n",
    "\n",
    "(Double-click this cell and replace this text with your own text, reporting your findings and decisions regarding mixed-value features. Which ones did you keep, which did you drop, and what engineering steps did you perform?)"
   ]
  },
  {
   "cell_type": "markdown",
   "metadata": {},
   "source": [
    "#### Step 1.2.3: Complete Feature Selection\n",
    "\n",
    "In order to finish this step up, you need to make sure that your data frame now only has the columns that you want to keep. To summarize, the dataframe should consist of the following:\n",
    "- All numeric, interval, and ordinal type columns from the original dataset.\n",
    "- Binary categorical features (all numerically-encoded).\n",
    "- Engineered features from other multi-level categorical features and mixed features.\n",
    "\n",
    "Make sure that for any new columns that you have engineered, that you've excluded the original columns from the final dataset. Otherwise, their values will interfere with the analysis later on the project. For example, you should not keep \"PRAEGENDE_JUGENDJAHRE\", since its values won't be useful for the algorithm: only the values derived from it in the engineered features you created should be retained. As a reminder, your data should only be from **the subset with few or no missing values**."
   ]
  },
  {
   "cell_type": "code",
   "execution_count": 46,
   "metadata": {},
   "outputs": [
    {
     "name": "stdout",
     "output_type": "stream",
     "text": [
      "There are 49 ordinal features.\n",
      "There are 6 numeric features.\n",
      "There are 4 categorical features.\n"
     ]
    }
   ],
   "source": [
    "# If there are other re-engineering tasks you need to perform, make sure you\n",
    "# take care of them here. (Dealing with missing data will come in step 2.1.)\n",
    "\n",
    "features = list(azdias_ready.columns)\n",
    "feat_info_c = feat_info[feat_info['attribute'].isin(features)]\n",
    "data_type = feat_info_c['type'].value_counts()\n",
    "for i in range(len(data_type)):\n",
    "    print('There are {} {} features.'.format(data_type[i], data_type.index[i]))"
   ]
  },
  {
   "cell_type": "code",
   "execution_count": 47,
   "metadata": {},
   "outputs": [
    {
     "data": {
      "text/html": [
       "<div>\n",
       "<style scoped>\n",
       "    .dataframe tbody tr th:only-of-type {\n",
       "        vertical-align: middle;\n",
       "    }\n",
       "\n",
       "    .dataframe tbody tr th {\n",
       "        vertical-align: top;\n",
       "    }\n",
       "\n",
       "    .dataframe thead th {\n",
       "        text-align: right;\n",
       "    }\n",
       "</style>\n",
       "<table border=\"1\" class=\"dataframe\">\n",
       "  <thead>\n",
       "    <tr style=\"text-align: right;\">\n",
       "      <th></th>\n",
       "      <th>ALTERSKATEGORIE_GROB</th>\n",
       "      <th>ANREDE_KZ</th>\n",
       "      <th>FINANZ_MINIMALIST</th>\n",
       "      <th>FINANZ_SPARER</th>\n",
       "      <th>FINANZ_VORSORGER</th>\n",
       "      <th>FINANZ_ANLEGER</th>\n",
       "      <th>FINANZ_UNAUFFAELLIGER</th>\n",
       "      <th>FINANZ_HAUSBAUER</th>\n",
       "      <th>GREEN_AVANTGARDE</th>\n",
       "      <th>HEALTH_TYP</th>\n",
       "      <th>...</th>\n",
       "      <th>PLZ8_ANTG4</th>\n",
       "      <th>PLZ8_HHZ</th>\n",
       "      <th>PLZ8_GBZ</th>\n",
       "      <th>ARBEIT</th>\n",
       "      <th>ORTSGR_KLS9</th>\n",
       "      <th>RELAT_AB</th>\n",
       "      <th>MOVEMENT</th>\n",
       "      <th>DECADE</th>\n",
       "      <th>WEALTH</th>\n",
       "      <th>LIFE_STAGE</th>\n",
       "    </tr>\n",
       "  </thead>\n",
       "  <tbody>\n",
       "    <tr>\n",
       "      <th>0</th>\n",
       "      <td>1.0</td>\n",
       "      <td>2.0</td>\n",
       "      <td>1.0</td>\n",
       "      <td>5.0</td>\n",
       "      <td>2.0</td>\n",
       "      <td>5.0</td>\n",
       "      <td>4.0</td>\n",
       "      <td>5.0</td>\n",
       "      <td>0</td>\n",
       "      <td>3.0</td>\n",
       "      <td>...</td>\n",
       "      <td>1.0</td>\n",
       "      <td>5.0</td>\n",
       "      <td>4.0</td>\n",
       "      <td>3.0</td>\n",
       "      <td>5.0</td>\n",
       "      <td>4.0</td>\n",
       "      <td>1.0</td>\n",
       "      <td>1.0</td>\n",
       "      <td>5.0</td>\n",
       "      <td>1.0</td>\n",
       "    </tr>\n",
       "    <tr>\n",
       "      <th>1</th>\n",
       "      <td>3.0</td>\n",
       "      <td>2.0</td>\n",
       "      <td>1.0</td>\n",
       "      <td>4.0</td>\n",
       "      <td>1.0</td>\n",
       "      <td>2.0</td>\n",
       "      <td>3.0</td>\n",
       "      <td>5.0</td>\n",
       "      <td>1</td>\n",
       "      <td>3.0</td>\n",
       "      <td>...</td>\n",
       "      <td>0.0</td>\n",
       "      <td>4.0</td>\n",
       "      <td>4.0</td>\n",
       "      <td>3.0</td>\n",
       "      <td>5.0</td>\n",
       "      <td>2.0</td>\n",
       "      <td>0.0</td>\n",
       "      <td>0.0</td>\n",
       "      <td>2.0</td>\n",
       "      <td>4.0</td>\n",
       "    </tr>\n",
       "    <tr>\n",
       "      <th>2</th>\n",
       "      <td>4.0</td>\n",
       "      <td>2.0</td>\n",
       "      <td>4.0</td>\n",
       "      <td>2.0</td>\n",
       "      <td>5.0</td>\n",
       "      <td>2.0</td>\n",
       "      <td>1.0</td>\n",
       "      <td>2.0</td>\n",
       "      <td>0</td>\n",
       "      <td>2.0</td>\n",
       "      <td>...</td>\n",
       "      <td>0.0</td>\n",
       "      <td>3.0</td>\n",
       "      <td>4.0</td>\n",
       "      <td>2.0</td>\n",
       "      <td>3.0</td>\n",
       "      <td>3.0</td>\n",
       "      <td>1.0</td>\n",
       "      <td>1.0</td>\n",
       "      <td>1.0</td>\n",
       "      <td>2.0</td>\n",
       "    </tr>\n",
       "    <tr>\n",
       "      <th>3</th>\n",
       "      <td>3.0</td>\n",
       "      <td>1.0</td>\n",
       "      <td>4.0</td>\n",
       "      <td>3.0</td>\n",
       "      <td>4.0</td>\n",
       "      <td>1.0</td>\n",
       "      <td>3.0</td>\n",
       "      <td>2.0</td>\n",
       "      <td>0</td>\n",
       "      <td>3.0</td>\n",
       "      <td>...</td>\n",
       "      <td>1.0</td>\n",
       "      <td>3.0</td>\n",
       "      <td>3.0</td>\n",
       "      <td>4.0</td>\n",
       "      <td>6.0</td>\n",
       "      <td>5.0</td>\n",
       "      <td>1.0</td>\n",
       "      <td>1.0</td>\n",
       "      <td>4.0</td>\n",
       "      <td>3.0</td>\n",
       "    </tr>\n",
       "    <tr>\n",
       "      <th>4</th>\n",
       "      <td>1.0</td>\n",
       "      <td>2.0</td>\n",
       "      <td>3.0</td>\n",
       "      <td>1.0</td>\n",
       "      <td>5.0</td>\n",
       "      <td>2.0</td>\n",
       "      <td>2.0</td>\n",
       "      <td>5.0</td>\n",
       "      <td>0</td>\n",
       "      <td>3.0</td>\n",
       "      <td>...</td>\n",
       "      <td>1.0</td>\n",
       "      <td>5.0</td>\n",
       "      <td>5.0</td>\n",
       "      <td>2.0</td>\n",
       "      <td>3.0</td>\n",
       "      <td>3.0</td>\n",
       "      <td>1.0</td>\n",
       "      <td>1.0</td>\n",
       "      <td>5.0</td>\n",
       "      <td>4.0</td>\n",
       "    </tr>\n",
       "  </tbody>\n",
       "</table>\n",
       "<p>5 rows × 63 columns</p>\n",
       "</div>"
      ],
      "text/plain": [
       "   ALTERSKATEGORIE_GROB  ANREDE_KZ  FINANZ_MINIMALIST  FINANZ_SPARER  \\\n",
       "0                   1.0        2.0                1.0            5.0   \n",
       "1                   3.0        2.0                1.0            4.0   \n",
       "2                   4.0        2.0                4.0            2.0   \n",
       "3                   3.0        1.0                4.0            3.0   \n",
       "4                   1.0        2.0                3.0            1.0   \n",
       "\n",
       "   FINANZ_VORSORGER  FINANZ_ANLEGER  FINANZ_UNAUFFAELLIGER  FINANZ_HAUSBAUER  \\\n",
       "0               2.0             5.0                    4.0               5.0   \n",
       "1               1.0             2.0                    3.0               5.0   \n",
       "2               5.0             2.0                    1.0               2.0   \n",
       "3               4.0             1.0                    3.0               2.0   \n",
       "4               5.0             2.0                    2.0               5.0   \n",
       "\n",
       "   GREEN_AVANTGARDE  HEALTH_TYP     ...      PLZ8_ANTG4  PLZ8_HHZ  PLZ8_GBZ  \\\n",
       "0                 0         3.0     ...             1.0       5.0       4.0   \n",
       "1                 1         3.0     ...             0.0       4.0       4.0   \n",
       "2                 0         2.0     ...             0.0       3.0       4.0   \n",
       "3                 0         3.0     ...             1.0       3.0       3.0   \n",
       "4                 0         3.0     ...             1.0       5.0       5.0   \n",
       "\n",
       "   ARBEIT  ORTSGR_KLS9  RELAT_AB  MOVEMENT  DECADE  WEALTH  LIFE_STAGE  \n",
       "0     3.0          5.0       4.0       1.0     1.0     5.0         1.0  \n",
       "1     3.0          5.0       2.0       0.0     0.0     2.0         4.0  \n",
       "2     2.0          3.0       3.0       1.0     1.0     1.0         2.0  \n",
       "3     4.0          6.0       5.0       1.0     1.0     4.0         3.0  \n",
       "4     2.0          3.0       3.0       1.0     1.0     5.0         4.0  \n",
       "\n",
       "[5 rows x 63 columns]"
      ]
     },
     "execution_count": 47,
     "metadata": {},
     "output_type": "execute_result"
    }
   ],
   "source": [
    "# Do whatever you need to in order to ensure that the dataframe only contains\n",
    "# the columns that should be passed to the algorithm functions.\n",
    "\n",
    "azdias_ready.head()"
   ]
  },
  {
   "cell_type": "markdown",
   "metadata": {},
   "source": [
    "### Step 1.3: Create a Cleaning Function\n",
    "\n",
    "Even though you've finished cleaning up the general population demographics data, it's important to look ahead to the future and realize that you'll need to perform the same cleaning steps on the customer demographics data. In this substep, complete the function below to execute the main feature selection, encoding, and re-engineering steps you performed above. Then, when it comes to looking at the customer data in Step 3, you can just run this function on that DataFrame to get the trimmed dataset in a single step."
   ]
  },
  {
   "cell_type": "code",
   "execution_count": 48,
   "metadata": {},
   "outputs": [],
   "source": [
    "def clean_data(df):\n",
    "    \"\"\"\n",
    "    Perform feature trimming, re-encoding, and engineering for demographics\n",
    "    data\n",
    "    \n",
    "    INPUT: Demographics DataFrame\n",
    "    OUTPUT: Trimmed and cleaned demographics DataFrame\n",
    "    \"\"\"\n",
    "    \n",
    "    # Put in code here to execute all main cleaning steps:\n",
    "    # convert missing value codes into NaNs, ...\n",
    "\n",
    "    for indx in range(len(feat_info)):\n",
    "        missing_or_unknown = feat_info.iloc[indx]['missing_or_unknown']\n",
    "        missing_or_unknown = missing_or_unknown.strip('[')\n",
    "        missing_or_unknown = missing_or_unknown.strip(']')\n",
    "        missing_or_unknown = missing_or_unknown.split(sep=',')\n",
    "        missing_or_unknown = [int(value) if (value!='X' and value!='XX' and value!='') else value for value in missing_or_unknown]\n",
    "        if missing_or_unknown != ['']:\n",
    "            df = df.replace({feat_info.iloc[indx]['attribute']: missing_or_unknown}, np.nan)\n",
    "    \n",
    "    # remove selected columns and rows, ...\n",
    "    # Dropping the columns with more than 20% missing data which now includes :\n",
    "    more_than_20 = ['AGER_TYP', 'GEBURTSJAHR', 'TITEL_KZ', 'ALTER_HH', 'KK_KUNDENTYP', 'KBA05_BAUMAX']\n",
    "    \n",
    "    for col in more_than_20:\n",
    "        df.drop(col,axis =1, inplace = True)\n",
    "    \n",
    "    # Dropping rows with missing data in more than 30 columns\n",
    "    df = df[df.isnull().sum(axis =1) < 30]\n",
    "    \n",
    "    # select, re-encode, and engineer column values.\n",
    "    # re-encoding the binary feature with non-numeric values:\n",
    "    encode_val = {'W': 0, 'O':1}\n",
    "    df = df.replace({'OST_WEST_KZ': encode_val})\n",
    "    \n",
    "    # Dropping the multi-level categoricals (3 or more values)\n",
    "    \n",
    "    multi_level= ['CJT_GESAMTTYP', \n",
    "                  'FINANZTYP',\n",
    "                  'GFK_URLAUBERTYP',\n",
    "                  'LP_FAMILIE_FEIN', \n",
    "                  'LP_FAMILIE_GROB',\n",
    "                  'LP_STATUS_FEIN',\n",
    "                  'LP_STATUS_GROB',\n",
    "                  'NATIONALITAET_KZ',\n",
    "                  'SHOPPER_TYP',\n",
    "                  'VERS_TYP',\n",
    "                  'ZABEOTYP',\n",
    "                  'GEBAEUDETYP',\n",
    "                  'CAMEO_DEUG_2015',\n",
    "                  'CAMEO_DEU_2015']\n",
    "\n",
    "    for feat in multi_level:\n",
    "        df = df.drop(feat, axis = 1)\n",
    "        \n",
    "    # Working with mixed variables:\n",
    "    mov_dict = {1:1, 2:0, 3:1, 4:0, 5:1, 6:0, 7:0, 8:1, 9:0, 10:1, 11:0, 12:1, 13:0, 14:1, 15:0}\n",
    "    dec_dict = {1:1, 2:1, 3:2, 4:2, 5:3, 6:3, 7:3, 8:4, 9:4, 10:5, 11:5, 12:5, 13:5, 14:6, 15:6}\n",
    "    df['MOVEMENT'] = df['PRAEGENDE_JUGENDJAHRE']\n",
    "    df['DECADE'] = df['PRAEGENDE_JUGENDJAHRE']\n",
    "    df['MOVEMENT'].replace(mov_dict, inplace = True)\n",
    "    df['DECADE'].replace(mov_dict, inplace = True)\n",
    "    \n",
    "    w_dict = {'11':1, '12':1, '13':1, '14':1, '15':1,\n",
    "              '21':2, '22':2, '23':2, '24':2, '25':2,\n",
    "              '31':3, '32':3, '33':3, '34':3, '35':3,\n",
    "              '41':4, '42':4, '43':4, '44':4, '45':4,\n",
    "              '51':5, '52':5, '53':5, '54':5, '55':5}\n",
    "\n",
    "    lf_dict = {'11':1, '12':2, '13':3, '14':4, '15':5, \n",
    "               '21':1, '22':2, '23':3, '24':4, '25':5,\n",
    "               '31':1, '32':2, '33':3, '34':4, '35':5,\n",
    "               '41':1, '42':2, '43':3, '44':4, '45':5,\n",
    "               '51':1, '52':2, '53':3, '54':4, '55':5}\n",
    "    df['WEALTH'] = df['CAMEO_INTL_2015']\n",
    "    df['LIFE_STAGE'] = df['CAMEO_INTL_2015']\n",
    "    df['WEALTH'].replace (w_dict, inplace = True)\n",
    "    df['LIFE_STAGE'].replace (lf_dict, inplace = True)\n",
    "    \n",
    "    df_ready = df.drop(['PLZ8_BAUMAX',\n",
    "                      'WOHNLAGE',\n",
    "                      'LP_LEBENSPHASE_FEIN',\n",
    "                      'LP_LEBENSPHASE_GROB',\n",
    "                      'PRAEGENDE_JUGENDJAHRE',\n",
    "                      'CAMEO_INTL_2015'],\n",
    "                        axis = 1)\n",
    "\n",
    "    # Return the cleaned dataframe.\n",
    "    return df_ready "
   ]
  },
  {
   "cell_type": "markdown",
   "metadata": {},
   "source": [
    "## Step 2: Feature Transformation\n",
    "\n",
    "### Step 2.1: Apply Feature Scaling\n",
    "\n",
    "Before we apply dimensionality reduction techniques to the data, we need to perform feature scaling so that the principal component vectors are not influenced by the natural differences in scale for features. Starting from this part of the project, you'll want to keep an eye on the [API reference page for sklearn](http://scikit-learn.org/stable/modules/classes.html) to help you navigate to all of the classes and functions that you'll need. In this substep, you'll need to check the following:\n",
    "\n",
    "- sklearn requires that data not have missing values in order for its estimators to work properly. So, before applying the scaler to your data, make sure that you've cleaned the DataFrame of the remaining missing values. This can be as simple as just removing all data points with missing data, or applying an [Imputer](http://scikit-learn.org/stable/modules/generated/sklearn.preprocessing.Imputer.html) to replace all missing values. You might also try a more complicated procedure where you temporarily remove missing values in order to compute the scaling parameters before re-introducing those missing values and applying imputation. Think about how much missing data you have and what possible effects each approach might have on your analysis, and justify your decision in the discussion section below.\n",
    "- For the actual scaling function, a [StandardScaler](http://scikit-learn.org/stable/modules/generated/sklearn.preprocessing.StandardScaler.html) instance is suggested, scaling each feature to mean 0 and standard deviation 1.\n",
    "- For these classes, you can make use of the `.fit_transform()` method to both fit a procedure to the data as well as apply the transformation to the data at the same time. Don't forget to keep the fit sklearn objects handy, since you'll be applying them to the customer demographics data towards the end of the project."
   ]
  },
  {
   "cell_type": "code",
   "execution_count": 49,
   "metadata": {},
   "outputs": [],
   "source": [
    "# If you've not yet cleaned the dataset of all NaN values, then investigate and\n",
    "# do that now.\n",
    "\n",
    "imputer = Imputer(strategy = 'most_frequent')\n",
    "azdias_ready_imp = pd. DataFrame(imputer.fit_transform(azdias_ready), columns = azdias_ready.columns)\n",
    "\n"
   ]
  },
  {
   "cell_type": "code",
   "execution_count": 50,
   "metadata": {},
   "outputs": [],
   "source": [
    "# Apply feature scaling to the general population demographics data.\n",
    "scaler = StandardScaler()\n",
    "azdias_ready_scaled = pd.DataFrame(scaler.fit_transform(azdias_ready_imp), columns = azdias_ready_imp.columns)\n"
   ]
  },
  {
   "cell_type": "code",
   "execution_count": 51,
   "metadata": {},
   "outputs": [
    {
     "data": {
      "text/html": [
       "<div>\n",
       "<style scoped>\n",
       "    .dataframe tbody tr th:only-of-type {\n",
       "        vertical-align: middle;\n",
       "    }\n",
       "\n",
       "    .dataframe tbody tr th {\n",
       "        vertical-align: top;\n",
       "    }\n",
       "\n",
       "    .dataframe thead th {\n",
       "        text-align: right;\n",
       "    }\n",
       "</style>\n",
       "<table border=\"1\" class=\"dataframe\">\n",
       "  <thead>\n",
       "    <tr style=\"text-align: right;\">\n",
       "      <th></th>\n",
       "      <th>ALTERSKATEGORIE_GROB</th>\n",
       "      <th>ANREDE_KZ</th>\n",
       "      <th>FINANZ_MINIMALIST</th>\n",
       "      <th>FINANZ_SPARER</th>\n",
       "      <th>FINANZ_VORSORGER</th>\n",
       "      <th>FINANZ_ANLEGER</th>\n",
       "      <th>FINANZ_UNAUFFAELLIGER</th>\n",
       "      <th>FINANZ_HAUSBAUER</th>\n",
       "      <th>GREEN_AVANTGARDE</th>\n",
       "      <th>HEALTH_TYP</th>\n",
       "      <th>...</th>\n",
       "      <th>PLZ8_ANTG4</th>\n",
       "      <th>PLZ8_HHZ</th>\n",
       "      <th>PLZ8_GBZ</th>\n",
       "      <th>ARBEIT</th>\n",
       "      <th>ORTSGR_KLS9</th>\n",
       "      <th>RELAT_AB</th>\n",
       "      <th>MOVEMENT</th>\n",
       "      <th>DECADE</th>\n",
       "      <th>WEALTH</th>\n",
       "      <th>LIFE_STAGE</th>\n",
       "    </tr>\n",
       "  </thead>\n",
       "  <tbody>\n",
       "    <tr>\n",
       "      <th>0</th>\n",
       "      <td>-1.766646</td>\n",
       "      <td>0.957914</td>\n",
       "      <td>-1.494594</td>\n",
       "      <td>1.537924</td>\n",
       "      <td>-1.040692</td>\n",
       "      <td>1.465965</td>\n",
       "      <td>0.958645</td>\n",
       "      <td>1.339314</td>\n",
       "      <td>-0.530409</td>\n",
       "      <td>1.010164</td>\n",
       "      <td>...</td>\n",
       "      <td>0.442528</td>\n",
       "      <td>1.455847</td>\n",
       "      <td>0.574305</td>\n",
       "      <td>-0.171400</td>\n",
       "      <td>-0.127041</td>\n",
       "      <td>0.684882</td>\n",
       "      <td>0.530409</td>\n",
       "      <td>0.530409</td>\n",
       "      <td>1.175657</td>\n",
       "      <td>-1.248894</td>\n",
       "    </tr>\n",
       "    <tr>\n",
       "      <th>1</th>\n",
       "      <td>0.200522</td>\n",
       "      <td>0.957914</td>\n",
       "      <td>-1.494594</td>\n",
       "      <td>0.864563</td>\n",
       "      <td>-1.766980</td>\n",
       "      <td>-0.570998</td>\n",
       "      <td>0.244119</td>\n",
       "      <td>1.339314</td>\n",
       "      <td>1.885336</td>\n",
       "      <td>1.010164</td>\n",
       "      <td>...</td>\n",
       "      <td>-0.934798</td>\n",
       "      <td>0.419740</td>\n",
       "      <td>0.574305</td>\n",
       "      <td>-0.171400</td>\n",
       "      <td>-0.127041</td>\n",
       "      <td>-0.789027</td>\n",
       "      <td>-1.885336</td>\n",
       "      <td>-1.885336</td>\n",
       "      <td>-0.869680</td>\n",
       "      <td>0.767095</td>\n",
       "    </tr>\n",
       "    <tr>\n",
       "      <th>2</th>\n",
       "      <td>1.184106</td>\n",
       "      <td>0.957914</td>\n",
       "      <td>0.683144</td>\n",
       "      <td>-0.482158</td>\n",
       "      <td>1.138172</td>\n",
       "      <td>-0.570998</td>\n",
       "      <td>-1.184933</td>\n",
       "      <td>-0.791205</td>\n",
       "      <td>-0.530409</td>\n",
       "      <td>-0.311816</td>\n",
       "      <td>...</td>\n",
       "      <td>-0.934798</td>\n",
       "      <td>-0.616366</td>\n",
       "      <td>0.574305</td>\n",
       "      <td>-1.173149</td>\n",
       "      <td>-0.997549</td>\n",
       "      <td>-0.052072</td>\n",
       "      <td>0.530409</td>\n",
       "      <td>0.530409</td>\n",
       "      <td>-1.551459</td>\n",
       "      <td>-0.576897</td>\n",
       "    </tr>\n",
       "    <tr>\n",
       "      <th>3</th>\n",
       "      <td>0.200522</td>\n",
       "      <td>-1.043935</td>\n",
       "      <td>0.683144</td>\n",
       "      <td>0.191203</td>\n",
       "      <td>0.411884</td>\n",
       "      <td>-1.249985</td>\n",
       "      <td>0.244119</td>\n",
       "      <td>-0.791205</td>\n",
       "      <td>-0.530409</td>\n",
       "      <td>1.010164</td>\n",
       "      <td>...</td>\n",
       "      <td>0.442528</td>\n",
       "      <td>-0.616366</td>\n",
       "      <td>-0.337195</td>\n",
       "      <td>0.830348</td>\n",
       "      <td>0.308213</td>\n",
       "      <td>1.421837</td>\n",
       "      <td>0.530409</td>\n",
       "      <td>0.530409</td>\n",
       "      <td>0.493878</td>\n",
       "      <td>0.095099</td>\n",
       "    </tr>\n",
       "    <tr>\n",
       "      <th>4</th>\n",
       "      <td>-1.766646</td>\n",
       "      <td>0.957914</td>\n",
       "      <td>-0.042768</td>\n",
       "      <td>-1.155518</td>\n",
       "      <td>1.138172</td>\n",
       "      <td>-0.570998</td>\n",
       "      <td>-0.470407</td>\n",
       "      <td>1.339314</td>\n",
       "      <td>-0.530409</td>\n",
       "      <td>1.010164</td>\n",
       "      <td>...</td>\n",
       "      <td>0.442528</td>\n",
       "      <td>1.455847</td>\n",
       "      <td>1.485805</td>\n",
       "      <td>-1.173149</td>\n",
       "      <td>-0.997549</td>\n",
       "      <td>-0.052072</td>\n",
       "      <td>0.530409</td>\n",
       "      <td>0.530409</td>\n",
       "      <td>1.175657</td>\n",
       "      <td>0.767095</td>\n",
       "    </tr>\n",
       "  </tbody>\n",
       "</table>\n",
       "<p>5 rows × 63 columns</p>\n",
       "</div>"
      ],
      "text/plain": [
       "   ALTERSKATEGORIE_GROB  ANREDE_KZ  FINANZ_MINIMALIST  FINANZ_SPARER  \\\n",
       "0             -1.766646   0.957914          -1.494594       1.537924   \n",
       "1              0.200522   0.957914          -1.494594       0.864563   \n",
       "2              1.184106   0.957914           0.683144      -0.482158   \n",
       "3              0.200522  -1.043935           0.683144       0.191203   \n",
       "4             -1.766646   0.957914          -0.042768      -1.155518   \n",
       "\n",
       "   FINANZ_VORSORGER  FINANZ_ANLEGER  FINANZ_UNAUFFAELLIGER  FINANZ_HAUSBAUER  \\\n",
       "0         -1.040692        1.465965               0.958645          1.339314   \n",
       "1         -1.766980       -0.570998               0.244119          1.339314   \n",
       "2          1.138172       -0.570998              -1.184933         -0.791205   \n",
       "3          0.411884       -1.249985               0.244119         -0.791205   \n",
       "4          1.138172       -0.570998              -0.470407          1.339314   \n",
       "\n",
       "   GREEN_AVANTGARDE  HEALTH_TYP     ...      PLZ8_ANTG4  PLZ8_HHZ  PLZ8_GBZ  \\\n",
       "0         -0.530409    1.010164     ...        0.442528  1.455847  0.574305   \n",
       "1          1.885336    1.010164     ...       -0.934798  0.419740  0.574305   \n",
       "2         -0.530409   -0.311816     ...       -0.934798 -0.616366  0.574305   \n",
       "3         -0.530409    1.010164     ...        0.442528 -0.616366 -0.337195   \n",
       "4         -0.530409    1.010164     ...        0.442528  1.455847  1.485805   \n",
       "\n",
       "     ARBEIT  ORTSGR_KLS9  RELAT_AB  MOVEMENT    DECADE    WEALTH  LIFE_STAGE  \n",
       "0 -0.171400    -0.127041  0.684882  0.530409  0.530409  1.175657   -1.248894  \n",
       "1 -0.171400    -0.127041 -0.789027 -1.885336 -1.885336 -0.869680    0.767095  \n",
       "2 -1.173149    -0.997549 -0.052072  0.530409  0.530409 -1.551459   -0.576897  \n",
       "3  0.830348     0.308213  1.421837  0.530409  0.530409  0.493878    0.095099  \n",
       "4 -1.173149    -0.997549 -0.052072  0.530409  0.530409  1.175657    0.767095  \n",
       "\n",
       "[5 rows x 63 columns]"
      ]
     },
     "execution_count": 51,
     "metadata": {},
     "output_type": "execute_result"
    }
   ],
   "source": [
    "azdias_ready_scaled.head()"
   ]
  },
  {
   "cell_type": "markdown",
   "metadata": {},
   "source": [
    "### Discussion 2.1: Apply Feature Scaling\n",
    "\n",
    "I have replaced the missing values with the most frequent value for that feature, because I did not want 'mean' method used on binary variables.\n",
    "\n",
    "Afterwards, I have scaled the dataset to have mean of 0 and standard deviation of 1"
   ]
  },
  {
   "cell_type": "markdown",
   "metadata": {},
   "source": [
    "### Step 2.2: Perform Dimensionality Reduction\n",
    "\n",
    "On your scaled data, you are now ready to apply dimensionality reduction techniques.\n",
    "\n",
    "- Use sklearn's [PCA](http://scikit-learn.org/stable/modules/generated/sklearn.decomposition.PCA.html) class to apply principal component analysis on the data, thus finding the vectors of maximal variance in the data. To start, you should not set any parameters (so all components are computed) or set a number of components that is at least half the number of features (so there's enough features to see the general trend in variability).\n",
    "- Check out the ratio of variance explained by each principal component as well as the cumulative variance explained. Try plotting the cumulative or sequential values using matplotlib's [`plot()`](https://matplotlib.org/api/_as_gen/matplotlib.pyplot.plot.html) function. Based on what you find, select a value for the number of transformed features you'll retain for the clustering part of the project.\n",
    "- Once you've made a choice for the number of components to keep, make sure you re-fit a PCA instance to perform the decided-on transformation."
   ]
  },
  {
   "cell_type": "code",
   "execution_count": 52,
   "metadata": {},
   "outputs": [],
   "source": [
    "# Apply PCA to the data.\n",
    "pca = PCA()\n",
    "azdias_pca = pca.fit_transform(azdias_ready_scaled)\n"
   ]
  },
  {
   "cell_type": "code",
   "execution_count": 53,
   "metadata": {},
   "outputs": [],
   "source": [
    "def scree_plot(pca):\n",
    "    comp = len(pca.explained_variance_ratio_)\n",
    "    ind = np.arange(comp)\n",
    "    val = pca.explained_variance_ratio_\n",
    "    \n",
    "    plt.figure(figsize=(10,5))\n",
    "    ax = plt.subplot(111)\n",
    "    cum_val = np.cumsum(val)\n",
    "    ax.bar(ind, val)\n",
    "    ax.plot(ind, cum_val)\n",
    "    \n",
    "    plt.grid()\n",
    "    plt.title('Variance accounteed for by each principal component')\n",
    "    ax.set_xlabel('Explained Variance Ratio')\n",
    "    ax.set_ylabel('Number of Principal Components')\n",
    "    "
   ]
  },
  {
   "cell_type": "code",
   "execution_count": 54,
   "metadata": {},
   "outputs": [
    {
     "data": {
      "image/png": "[encoded data removed]",
      "text/plain": [
       "<matplotlib.figure.Figure at 0x7fc72d1a71d0>"
      ]
     },
     "metadata": {
      "needs_background": "light"
     },
     "output_type": "display_data"
    }
   ],
   "source": [
    "scree_plot(pca)"
   ]
  },
  {
   "cell_type": "code",
   "execution_count": 55,
   "metadata": {},
   "outputs": [],
   "source": [
    "# Re-apply PCA to the data while selecting for number of components to retain.\n",
    "\n",
    "pca_num = PCA(n_components = 25)\n",
    "azdias_pca_num = pca_num.fit_transform(azdias_ready_scaled)"
   ]
  },
  {
   "cell_type": "code",
   "execution_count": 56,
   "metadata": {},
   "outputs": [
    {
     "data": {
      "text/plain": [
       "0.84966687391322571"
      ]
     },
     "execution_count": 56,
     "metadata": {},
     "output_type": "execute_result"
    }
   ],
   "source": [
    "pca_num.explained_variance_ratio_.sum()"
   ]
  },
  {
   "cell_type": "markdown",
   "metadata": {},
   "source": [
    "### Discussion 2.2: Perform Dimensionality Reduction\n",
    "\n",
    "It was decided to retain 25 principal components seeing as they explain 85% of variance as seen on the graph above while eliminating more than half of the number of variables. "
   ]
  },
  {
   "cell_type": "markdown",
   "metadata": {},
   "source": [
    "### Step 2.3: Interpret Principal Components\n",
    "\n",
    "Now that we have our transformed principal components, it's a nice idea to check out the weight of each variable on the first few components to see if they can be interpreted in some fashion.\n",
    "\n",
    "As a reminder, each principal component is a unit vector that points in the direction of highest variance (after accounting for the variance captured by earlier principal components). The further a weight is from zero, the more the principal component is in the direction of the corresponding feature. If two features have large weights of the same sign (both positive or both negative), then increases in one tend expect to be associated with increases in the other. To contrast, features with different signs can be expected to show a negative correlation: increases in one variable should result in a decrease in the other.\n",
    "\n",
    "- To investigate the features, you should map each weight to their corresponding feature name, then sort the features according to weight. The most interesting features for each principal component, then, will be those at the beginning and end of the sorted list. Use the data dictionary document to help you understand these most prominent features, their relationships, and what a positive or negative value on the principal component might indicate.\n",
    "- You should investigate and interpret feature associations from the first three principal components in this substep. To help facilitate this, you should write a function that you can call at any time to print the sorted list of feature weights, for the *i*-th principal component. This might come in handy in the next step of the project, when you interpret the tendencies of the discovered clusters."
   ]
  },
  {
   "cell_type": "code",
   "execution_count": 57,
   "metadata": {},
   "outputs": [],
   "source": [
    "# Map weights for the first principal component to corresponding feature names\n",
    "# and then print the linked values, sorted by weight.\n",
    "# HINT: Try defining a function here or in a new cell that you can reuse in the\n",
    "# other cells.\n",
    "\n",
    "def weights_pca(pca, i):\n",
    "    t = pd.DataFrame(pca.components_, columns = list(azdias_ready_scaled.columns))\n",
    "    w = t.iloc[i].sort_values(ascending = False)\n",
    "    return w\n",
    "\n"
   ]
  },
  {
   "cell_type": "code",
   "execution_count": 58,
   "metadata": {},
   "outputs": [
    {
     "name": "stdout",
     "output_type": "stream",
     "text": [
      "PLZ8_ANTG3               0.230239\n",
      "PLZ8_ANTG4               0.221904\n",
      "WEALTH                   0.212263\n",
      "HH_EINKOMMEN_SCORE       0.211668\n",
      "ORTSGR_KLS9              0.198369\n",
      "EWDICHTE                 0.196366\n",
      "FINANZ_HAUSBAUER         0.171272\n",
      "KBA05_ANTG4              0.159655\n",
      "PLZ8_ANTG2               0.156522\n",
      "ARBEIT                   0.146382\n",
      "KBA05_ANTG3              0.141497\n",
      "ANZ_HAUSHALTE_AKTIV      0.141206\n",
      "RELAT_AB                 0.137765\n",
      "FINANZ_SPARER            0.129466\n",
      "MOVEMENT                 0.124832\n",
      "DECADE                   0.124832\n",
      "SEMIO_PFLICHT            0.100317\n",
      "SEMIO_REL                0.096381\n",
      "SEMIO_RAT                0.083363\n",
      "SEMIO_TRADV              0.072714\n",
      "SEMIO_MAT                0.069414\n",
      "SEMIO_FAM                0.066141\n",
      "REGIOTYP                 0.065075\n",
      "SEMIO_KULT               0.057943\n",
      "OST_WEST_KZ              0.057786\n",
      "FINANZ_UNAUFFAELLIGER    0.057126\n",
      "FINANZ_ANLEGER           0.056893\n",
      "W_KEIT_KIND_HH           0.048444\n",
      "SEMIO_KAEM               0.046365\n",
      "KKK                      0.044475\n",
      "                           ...   \n",
      "HEALTH_TYP               0.034541\n",
      "SEMIO_DOM                0.026395\n",
      "KBA05_ANTG2              0.013642\n",
      "ANREDE_KZ                0.013411\n",
      "SEMIO_KRIT               0.012480\n",
      "SOHO_KZ                 -0.002169\n",
      "ANZ_TITEL               -0.004714\n",
      "RETOURTYP_BK_S          -0.006329\n",
      "SEMIO_VERT              -0.044698\n",
      "MIN_GEBAEUDEJAHR        -0.046027\n",
      "WOHNDAUER_2008          -0.055612\n",
      "ONLINE_AFFINITAET       -0.058759\n",
      "SEMIO_ERL               -0.060045\n",
      "SEMIO_LUST              -0.060843\n",
      "KBA13_ANZAHL_PKW        -0.076745\n",
      "ANZ_PERSONEN            -0.085155\n",
      "FINANZ_VORSORGER        -0.096816\n",
      "ALTERSKATEGORIE_GROB    -0.101163\n",
      "GEBAEUDETYP_RASTER      -0.118867\n",
      "GREEN_AVANTGARDE        -0.124832\n",
      "LIFE_STAGE              -0.125154\n",
      "BALLRAUM                -0.127890\n",
      "INNENSTADT              -0.166209\n",
      "KONSUMNAEHE             -0.169966\n",
      "PLZ8_GBZ                -0.171729\n",
      "FINANZ_MINIMALIST       -0.216024\n",
      "KBA05_ANTG1             -0.221287\n",
      "KBA05_GBZ               -0.223276\n",
      "MOBI_REGIO              -0.231316\n",
      "PLZ8_ANTG1              -0.231441\n",
      "Name: 0, Length: 63, dtype: float64\n"
     ]
    }
   ],
   "source": [
    "#Mapping the weights for the first principal component\n",
    "weights1 = weights_pca(pca_num,0)\n",
    "print(weights1)"
   ]
  },
  {
   "cell_type": "code",
   "execution_count": 59,
   "metadata": {},
   "outputs": [
    {
     "name": "stdout",
     "output_type": "stream",
     "text": [
      "ALTERSKATEGORIE_GROB     0.271879\n",
      "SEMIO_ERL                0.259342\n",
      "FINANZ_VORSORGER         0.234921\n",
      "SEMIO_LUST               0.189143\n",
      "RETOURTYP_BK_S           0.157996\n",
      "SEMIO_KRIT               0.141776\n",
      "SEMIO_KAEM               0.141067\n",
      "ANREDE_KZ                0.123088\n",
      "FINANZ_HAUSBAUER         0.106687\n",
      "W_KEIT_KIND_HH           0.103603\n",
      "SEMIO_DOM                0.097998\n",
      "EWDICHTE                 0.074747\n",
      "ORTSGR_KLS9              0.073104\n",
      "FINANZ_MINIMALIST        0.071951\n",
      "PLZ8_ANTG3               0.071566\n",
      "PLZ8_ANTG4               0.070410\n",
      "WOHNDAUER_2008           0.063185\n",
      "KBA05_ANTG4              0.057891\n",
      "WEALTH                   0.055174\n",
      "ARBEIT                   0.054166\n",
      "RELAT_AB                 0.053050\n",
      "ANZ_HAUSHALTE_AKTIV      0.050875\n",
      "PLZ8_ANTG2               0.049734\n",
      "HH_EINKOMMEN_SCORE       0.041367\n",
      "KBA05_ANTG3              0.034599\n",
      "ANZ_HH_TITEL             0.028071\n",
      "OST_WEST_KZ              0.020433\n",
      "LIFE_STAGE               0.012949\n",
      "PLZ8_HHZ                 0.011012\n",
      "DECADE                   0.009402\n",
      "                           ...   \n",
      "SOHO_KZ                 -0.001792\n",
      "KKK                     -0.003318\n",
      "KBA05_ANTG2             -0.003325\n",
      "GREEN_AVANTGARDE        -0.009402\n",
      "KBA13_ANZAHL_PKW        -0.028759\n",
      "GEBAEUDETYP_RASTER      -0.033249\n",
      "MIN_GEBAEUDEJAHR        -0.042566\n",
      "BALLRAUM                -0.049410\n",
      "KBA05_ANTG1             -0.050468\n",
      "KONSUMNAEHE             -0.054807\n",
      "PLZ8_GBZ                -0.055289\n",
      "ANZ_PERSONEN            -0.055569\n",
      "MOBI_REGIO              -0.055818\n",
      "HEALTH_TYP              -0.059843\n",
      "INNENSTADT              -0.059951\n",
      "KBA05_GBZ               -0.068130\n",
      "PLZ8_ANTG1              -0.069455\n",
      "SEMIO_VERT              -0.096484\n",
      "SEMIO_SOZ               -0.131520\n",
      "ONLINE_AFFINITAET       -0.157988\n",
      "SEMIO_RAT               -0.167170\n",
      "SEMIO_MAT               -0.180834\n",
      "FINANZ_ANLEGER          -0.197142\n",
      "SEMIO_FAM               -0.218215\n",
      "FINANZ_UNAUFFAELLIGER   -0.227291\n",
      "SEMIO_PFLICHT           -0.239718\n",
      "SEMIO_TRADV             -0.240720\n",
      "FINANZ_SPARER           -0.241040\n",
      "SEMIO_KULT              -0.253038\n",
      "SEMIO_REL               -0.279886\n",
      "Name: 1, Length: 63, dtype: float64\n"
     ]
    }
   ],
   "source": [
    "# Map weights for the second principal component to corresponding feature names\n",
    "# and then print the linked values, sorted by weight.\n",
    "\n",
    "weights2 = weights_pca(pca_num,1)\n",
    "print(weights2)"
   ]
  },
  {
   "cell_type": "code",
   "execution_count": 60,
   "metadata": {},
   "outputs": [
    {
     "name": "stdout",
     "output_type": "stream",
     "text": [
      "SEMIO_VERT               0.337369\n",
      "SEMIO_SOZ                0.250139\n",
      "SEMIO_FAM                0.225310\n",
      "SEMIO_KULT               0.205764\n",
      "FINANZ_MINIMALIST        0.165735\n",
      "RETOURTYP_BK_S           0.126162\n",
      "FINANZ_VORSORGER         0.124758\n",
      "ALTERSKATEGORIE_GROB     0.110653\n",
      "W_KEIT_KIND_HH           0.092562\n",
      "SEMIO_LUST               0.087513\n",
      "GREEN_AVANTGARDE         0.067606\n",
      "ORTSGR_KLS9              0.067126\n",
      "EWDICHTE                 0.066591\n",
      "PLZ8_ANTG4               0.059707\n",
      "PLZ8_ANTG3               0.059402\n",
      "ARBEIT                   0.045373\n",
      "RELAT_AB                 0.043739\n",
      "PLZ8_ANTG2               0.041177\n",
      "WOHNDAUER_2008           0.040080\n",
      "KBA05_ANTG4              0.035739\n",
      "SEMIO_REL                0.035409\n",
      "SEMIO_MAT                0.034245\n",
      "WEALTH                   0.031639\n",
      "ANZ_HAUSHALTE_AKTIV      0.031567\n",
      "ANZ_HH_TITEL             0.018385\n",
      "OST_WEST_KZ              0.015103\n",
      "KBA05_ANTG3              0.012537\n",
      "ANZ_TITEL                0.012368\n",
      "PLZ8_HHZ                 0.010191\n",
      "SOHO_KZ                  0.000049\n",
      "                           ...   \n",
      "REGIOTYP                -0.014362\n",
      "HH_EINKOMMEN_SCORE      -0.022382\n",
      "MIN_GEBAEUDEJAHR        -0.023778\n",
      "KBA05_ANTG1             -0.023834\n",
      "KKK                     -0.025489\n",
      "KBA13_ANZAHL_PKW        -0.026805\n",
      "MOBI_REGIO              -0.030524\n",
      "FINANZ_HAUSBAUER        -0.034327\n",
      "KBA05_GBZ               -0.034554\n",
      "GEBAEUDETYP_RASTER      -0.038690\n",
      "HEALTH_TYP              -0.040571\n",
      "PLZ8_GBZ                -0.046444\n",
      "BALLRAUM                -0.050135\n",
      "KONSUMNAEHE             -0.051091\n",
      "PLZ8_ANTG1              -0.058514\n",
      "INNENSTADT              -0.059644\n",
      "ONLINE_AFFINITAET       -0.067449\n",
      "MOVEMENT                -0.067606\n",
      "DECADE                  -0.067606\n",
      "SEMIO_TRADV             -0.107425\n",
      "SEMIO_PFLICHT           -0.108689\n",
      "FINANZ_UNAUFFAELLIGER   -0.121420\n",
      "FINANZ_SPARER           -0.132008\n",
      "SEMIO_ERL               -0.147882\n",
      "FINANZ_ANLEGER          -0.216094\n",
      "SEMIO_RAT               -0.239087\n",
      "SEMIO_KRIT              -0.262011\n",
      "SEMIO_DOM               -0.301816\n",
      "SEMIO_KAEM              -0.320461\n",
      "ANREDE_KZ               -0.356313\n",
      "Name: 2, Length: 63, dtype: float64\n"
     ]
    }
   ],
   "source": [
    "# Map weights for the third principal component to corresponding feature names\n",
    "# and then print the linked values, sorted by weight.\n",
    "\n",
    "weights3 = weights_pca(pca_num,2)\n",
    "print(weights3)\n"
   ]
  },
  {
   "cell_type": "markdown",
   "metadata": {},
   "source": [
    "### Discussion 2.3: Interpret Principal Components\n",
    "\n",
    "For the first principal components, we can deduce that:\n",
    "- Number of large house (6-10 families) is positively correlated with the number of very large houses (10+ families) and negatively correlated with small houses (1-2 families) and number of buildings in a micro-cell which is to be expected\n",
    "\n",
    "- The estimated age group is positively correlated with the kind of shopper and returner (how many purchsed items the person returns) feature and negatively correlated with the online affinity variable. Both shopping styles (with younger population more prone to buy and return) and online usage are generally thought of as correlated with age. So the relationships are as expected\n",
    "\n",
    "For the second pricipal component, we can deduce that:\n",
    " - Estimated age bracket of teh individual is positively correlated with the number of children in the household, whch is to be expected as older people tend to have had more children\n",
    " - Estimated age bracket is negatively correlated to the internet affinity which is also to be expected because, in general, older people tend to use the internet less\n",
    "\n",
    "For the third pricipal component, we can deduce that:\n",
    " -  The size of the community that the individual inhabits is positively correlated to the number of 6-10 and 10+ families per house variables. This is to be expected as large number of people populating the 6+ people families, creates a densely populated and hence large sized community.\n",
    " - It is interesting to see that unemployment rate in a community (ARBEIT) and density of households per square kilometer are positively correlated. I would not have picked that up as an obvious connection\n",
    " - However, it does make sense that the above mentioned density of households per square kilometer (EWDICHTE) is negatively correlated to the number of 1-2 family houses in the area (PLZ8_ANTG1). Because the more densely populated the area, the more houses with larger families you would expect to see. \n"
   ]
  },
  {
   "cell_type": "markdown",
   "metadata": {},
   "source": [
    "## Step 3: Clustering\n",
    "\n",
    "### Step 3.1: Apply Clustering to General Population\n",
    "\n",
    "You've assessed and cleaned the demographics data, then scaled and transformed them. Now, it's time to see how the data clusters in the principal components space. In this substep, you will apply k-means clustering to the dataset and use the average within-cluster distances from each point to their assigned cluster's centroid to decide on a number of clusters to keep.\n",
    "\n",
    "- Use sklearn's [KMeans](http://scikit-learn.org/stable/modules/generated/sklearn.cluster.KMeans.html#sklearn.cluster.KMeans) class to perform k-means clustering on the PCA-transformed data.\n",
    "- Then, compute the average difference from each point to its assigned cluster's center. **Hint**: The KMeans object's `.score()` method might be useful here, but note that in sklearn, scores tend to be defined so that larger is better. Try applying it to a small, toy dataset, or use an internet search to help your understanding.\n",
    "- Perform the above two steps for a number of different cluster counts. You can then see how the average distance decreases with an increasing number of clusters. However, each additional cluster provides a smaller net benefit. Use this fact to select a final number of clusters in which to group the data. **Warning**: because of the large size of the dataset, it can take a long time for the algorithm to resolve. The more clusters to fit, the longer the algorithm will take. You should test for cluster counts through at least 10 clusters to get the full picture, but you shouldn't need to test for a number of clusters above about 30.\n",
    "- Once you've selected a final number of clusters to use, re-fit a KMeans instance to perform the clustering operation. Make sure that you also obtain the cluster assignments for the general demographics data, since you'll be using them in the final Step 3.3."
   ]
  },
  {
   "cell_type": "code",
   "execution_count": 61,
   "metadata": {},
   "outputs": [],
   "source": [
    "def get_kmeans_score(data, center):\n",
    "    \n",
    "    kmeans = KMeans (n_clusters = center)\n",
    "    model = kmeans.fit(data)\n",
    "    score = np. abs(model.score(data))\n",
    "    \n",
    "    return score"
   ]
  },
  {
   "cell_type": "code",
   "execution_count": null,
   "metadata": {},
   "outputs": [],
   "source": [
    "# Over a number of different cluster counts...\n",
    "scores = []\n",
    "centers = list(range(2,30, 5))\n",
    "\n",
    "    # run k-means clustering on the data and...\n",
    "for center in centers:\n",
    "    scores.append(get_kmeans_score(azdias_pca_num, center))\n",
    "    \n",
    "    # compute the average within-cluster distances.\n",
    "    \n",
    "    "
   ]
  },
  {
   "cell_type": "code",
   "execution_count": 63,
   "metadata": {},
   "outputs": [
    {
     "data": {
      "text/plain": [
       "Text(0,0.5,'Within-cluster distances')"
      ]
     },
     "execution_count": 63,
     "metadata": {},
     "output_type": "execute_result"
    },
    {
     "data": {
      "image/png": "[encoded data removed]",
      "text/plain": [
       "<matplotlib.figure.Figure at 0x7fc72d0a5eb8>"
      ]
     },
     "metadata": {
      "needs_background": "light"
     },
     "output_type": "display_data"
    }
   ],
   "source": [
    "# Investigate the change in within-cluster distance across number of clusters.\n",
    "# HINT: Use matplotlib's plot function to visualize this relationship.\n",
    "\n",
    "plt.plot(centers, scores, linestyle = '-', marker = 'x',color = 'g')\n",
    "plt.title('Within- cluster distances vs Number of Clusters')\n",
    "plt.xlabel('Number of clusters')\n",
    "plt.ylabel('Within-cluster distances')"
   ]
  },
  {
   "cell_type": "code",
   "execution_count": 64,
   "metadata": {},
   "outputs": [],
   "source": [
    "# Re-fit the k-means model with the selected number of clusters and obtain\n",
    "# cluster predictions for the general population demographics data.\n",
    "kmeans = KMeans(n_clusters = 12)\n",
    "model_12 = kmeans.fit(azdias_pca_num)\n",
    "model_pred = model_12.predict(azdias_pca_num)"
   ]
  },
  {
   "cell_type": "markdown",
   "metadata": {},
   "source": [
    "### Discussion 3.1: Apply Clustering to General Population\n",
    "\n",
    "After producing and examining the graph of within-cluster distances vs the number of clusters, we can see as expected a big drop with the increase of the number of clusres where the total number of clusters is less than 10. However after that the within-cluser distances dimish at a much slower rate. I have chosen to proceed with 12 clusters because it looks like 'an elbow' i.e. a breaking point in the rate of diminishing with-cluser distances.  "
   ]
  },
  {
   "cell_type": "markdown",
   "metadata": {},
   "source": [
    "### Step 3.2: Apply All Steps to the Customer Data\n",
    "\n",
    "Now that you have clusters and cluster centers for the general population, it's time to see how the customer data maps on to those clusters. Take care to not confuse this for re-fitting all of the models to the customer data. Instead, you're going to use the fits from the general population to clean, transform, and cluster the customer data. In the last step of the project, you will interpret how the general population fits apply to the customer data.\n",
    "\n",
    "- Don't forget when loading in the customers data, that it is semicolon (`;`) delimited.\n",
    "- Apply the same feature wrangling, selection, and engineering steps to the customer demographics using the `clean_data()` function you created earlier. (You can assume that the customer demographics data has similar meaning behind missing data patterns as the general demographics data.)\n",
    "- Use the sklearn objects from the general demographics data, and apply their transformations to the customers data. That is, you should not be using a `.fit()` or `.fit_transform()` method to re-fit the old objects, nor should you be creating new sklearn objects! Carry the data through the feature scaling, PCA, and clustering steps, obtaining cluster assignments for all of the data in the customer demographics data."
   ]
  },
  {
   "cell_type": "code",
   "execution_count": 65,
   "metadata": {},
   "outputs": [],
   "source": [
    "# Load in the customer demographics data.\n",
    "customers = pd.read_csv('Udacity_CUSTOMERS_Subset.csv', sep=';')"
   ]
  },
  {
   "cell_type": "code",
   "execution_count": 66,
   "metadata": {},
   "outputs": [],
   "source": [
    "# Apply preprocessing, feature transformation, and clustering from the general\n",
    "# demographics onto the customer data, obtaining cluster predictions for the\n",
    "# customer demographics data.\n",
    "\n",
    "customers_clean = clean_data(customers)"
   ]
  },
  {
   "cell_type": "code",
   "execution_count": 67,
   "metadata": {},
   "outputs": [],
   "source": [
    "# Replace the NaN values\n",
    "customers_clean_imputed = pd.DataFrame(imputer.transform(customers_clean))\n",
    "customers_clean_imputed.columns = customers_clean.columns\n",
    "customers_clean_imputed.index = customers_clean.index"
   ]
  },
  {
   "cell_type": "code",
   "execution_count": 68,
   "metadata": {},
   "outputs": [],
   "source": [
    "#normalization using StandardScaler\n",
    "customers_clean_scaled = scaler.transform(customers_clean_imputed)\n"
   ]
  },
  {
   "cell_type": "code",
   "execution_count": 69,
   "metadata": {},
   "outputs": [],
   "source": [
    "#transform the customers data using pca object\n",
    "pca_customers_clean = pca.transform(customers_clean_imputed)"
   ]
  },
  {
   "cell_type": "code",
   "execution_count": 70,
   "metadata": {},
   "outputs": [],
   "source": [
    "# PCA transformation\n",
    "customers_pca = pca_num.transform(customers_clean_scaled)"
   ]
  },
  {
   "cell_type": "code",
   "execution_count": 71,
   "metadata": {},
   "outputs": [],
   "source": [
    "customers_pred = model_12.predict(customers_pca)"
   ]
  },
  {
   "cell_type": "markdown",
   "metadata": {},
   "source": [
    "### Step 3.3: Compare Customer Data to Demographics Data\n",
    "\n",
    "At this point, you have clustered data based on demographics of the general population of Germany, and seen how the customer data for a mail-order sales company maps onto those demographic clusters. In this final substep, you will compare the two cluster distributions to see where the strongest customer base for the company is.\n",
    "\n",
    "Consider the proportion of persons in each cluster for the general population, and the proportions for the customers. If we think the company's customer base to be universal, then the cluster assignment proportions should be fairly similar between the two. If there are only particular segments of the population that are interested in the company's products, then we should see a mismatch from one to the other. If there is a higher proportion of persons in a cluster for the customer data compared to the general population (e.g. 5% of persons are assigned to a cluster for the general population, but 15% of the customer data is closest to that cluster's centroid) then that suggests the people in that cluster to be a target audience for the company. On the other hand, the proportion of the data in a cluster being larger in the general population than the customer data (e.g. only 2% of customers closest to a population centroid that captures 6% of the data) suggests that group of persons to be outside of the target demographics.\n",
    "\n",
    "Take a look at the following points in this step:\n",
    "\n",
    "- Compute the proportion of data points in each cluster for the general population and the customer data. Visualizations will be useful here: both for the individual dataset proportions, but also to visualize the ratios in cluster representation between groups. Seaborn's [`countplot()`](https://seaborn.pydata.org/generated/seaborn.countplot.html) or [`barplot()`](https://seaborn.pydata.org/generated/seaborn.barplot.html) function could be handy.\n",
    "  - Recall the analysis you performed in step 1.1.3 of the project, where you separated out certain data points from the dataset if they had more than a specified threshold of missing values. If you found that this group was qualitatively different from the main bulk of the data, you should treat this as an additional data cluster in this analysis. Make sure that you account for the number of data points in this subset, for both the general population and customer datasets, when making your computations!\n",
    "- Which cluster or clusters are overrepresented in the customer dataset compared to the general population? Select at least one such cluster and infer what kind of people might be represented by that cluster. Use the principal component interpretations from step 2.3 or look at additional components to help you make this inference. Alternatively, you can use the `.inverse_transform()` method of the PCA and StandardScaler objects to transform centroids back to the original data space and interpret the retrieved values directly.\n",
    "- Perform a similar investigation for the underrepresented clusters. Which cluster or clusters are underrepresented in the customer dataset compared to the general population, and what kinds of people are typified by these clusters?"
   ]
  },
  {
   "cell_type": "code",
   "execution_count": 72,
   "metadata": {},
   "outputs": [
    {
     "data": {
      "image/png": "[encoded data removed]",
      "text/plain": [
       "<matplotlib.figure.Figure at 0x7fc72d21ac18>"
      ]
     },
     "metadata": {
      "needs_background": "light"
     },
     "output_type": "display_data"
    }
   ],
   "source": [
    "# Compare the proportion of data in each cluster for the customer data to the\n",
    "# proportion of data in each cluster for the general population.\n",
    "\n",
    "cust_data = []\n",
    "dem_data = []\n",
    "x = [i+1 for i in range(12)]\n",
    "for i in range(12):\n",
    "    dem_data.append((model_pred == i).sum()/len(model_pred))\n",
    "    cust_data.append((customers_pred == i).sum()/len(customers_pred))\n",
    "\n",
    "\n",
    "df_prop = pd.DataFrame({'prop_cust':cust_data, 'prop_dem' : dem_data,'cluster' : x })\n",
    "\n",
    "#ax = sns.countplot(x='index', y = df_general['prop_1', 'prop_2'], data=df_general )\n",
    "df_prop.plot(x='cluster', y = ['prop_cust', 'prop_dem'], kind='bar', figsize=(10,6))\n",
    "\n",
    "plt.title('The proportion of individuals in the demographic vs the customer clusters')\n",
    "plt.show()\n",
    "\n"
   ]
  },
  {
   "cell_type": "code",
   "execution_count": 73,
   "metadata": {},
   "outputs": [
    {
     "name": "stdout",
     "output_type": "stream",
     "text": [
      "ALTERSKATEGORIE_GROB        3.481359\n",
      "ANREDE_KZ                   1.920664\n",
      "FINANZ_MINIMALIST           3.582889\n",
      "FINANZ_SPARER               1.883693\n",
      "FINANZ_VORSORGER            4.083831\n",
      "FINANZ_ANLEGER              2.845550\n",
      "FINANZ_UNAUFFAELLIGER       2.051897\n",
      "FINANZ_HAUSBAUER            2.898675\n",
      "GREEN_AVANTGARDE           -0.000864\n",
      "HEALTH_TYP                  2.098604\n",
      "RETOURTYP_BK_S              3.399354\n",
      "SEMIO_SOZ                   2.547189\n",
      "SEMIO_FAM                   2.128721\n",
      "SEMIO_REL                   2.186629\n",
      "SEMIO_MAT                   2.454217\n",
      "SEMIO_VERT                  3.035960\n",
      "SEMIO_LUST                  4.909954\n",
      "SEMIO_ERL                   6.366810\n",
      "SEMIO_KULT                  2.099858\n",
      "SEMIO_RAT                   3.475692\n",
      "SEMIO_KRIT                  5.775365\n",
      "SEMIO_DOM                   5.503518\n",
      "SEMIO_KAEM                  5.462528\n",
      "SEMIO_PFLICHT               2.992351\n",
      "SEMIO_TRADV                 2.679346\n",
      "SOHO_KZ                    -0.000132\n",
      "ANZ_PERSONEN                1.788247\n",
      "ANZ_TITEL                   0.000928\n",
      "HH_EINKOMMEN_SCORE          4.111447\n",
      "W_KEIT_KIND_HH              4.160969\n",
      "                            ...     \n",
      "KONSUMNAEHE                 3.902931\n",
      "MIN_GEBAEUDEJAHR         1993.986888\n",
      "OST_WEST_KZ                 0.210513\n",
      "KBA05_ANTG1                 2.136759\n",
      "KBA05_ANTG2                 1.160318\n",
      "KBA05_ANTG3                 0.201580\n",
      "KBA05_ANTG4                 0.038983\n",
      "KBA05_GBZ                   3.922714\n",
      "BALLRAUM                    5.338145\n",
      "EWDICHTE                    2.532450\n",
      "INNENSTADT                  5.900900\n",
      "GEBAEUDETYP_RASTER          4.045293\n",
      "KKK                         2.897917\n",
      "MOBI_REGIO                  3.710704\n",
      "ONLINE_AFFINITAET           2.606223\n",
      "REGIOTYP                    4.658321\n",
      "KBA13_ANZAHL_PKW          693.118551\n",
      "PLZ8_ANTG1                  2.863739\n",
      "PLZ8_ANTG2                  2.329000\n",
      "PLZ8_ANTG3                  0.905978\n",
      "PLZ8_ANTG4                  0.186222\n",
      "PLZ8_HHZ                    3.348348\n",
      "PLZ8_GBZ                    3.824069\n",
      "ARBEIT                      2.692220\n",
      "ORTSGR_KLS9                 3.426674\n",
      "RELAT_AB                    2.391487\n",
      "MOVEMENT                    1.000864\n",
      "DECADE                      1.000864\n",
      "WEALTH                      2.641749\n",
      "LIFE_STAGE                  3.241594\n",
      "Length: 63, dtype: float64\n"
     ]
    }
   ],
   "source": [
    "# What kinds of people are part of a cluster that is overrepresented in the\n",
    "# customer data compared to the general population?\n",
    "cluster_1 = scaler.inverse_transform(pca_num.inverse_transform(model_12.cluster_centers_[1]))\n",
    "over_cluster = pd.Series(data = cluster_1, index = customers_clean.columns)\n",
    "print(over_cluster)"
   ]
  },
  {
   "cell_type": "code",
   "execution_count": 74,
   "metadata": {},
   "outputs": [
    {
     "name": "stdout",
     "output_type": "stream",
     "text": [
      "ALTERSKATEGORIE_GROB        1.961068\n",
      "ANREDE_KZ                   1.997275\n",
      "FINANZ_MINIMALIST           2.891320\n",
      "FINANZ_SPARER               3.724626\n",
      "FINANZ_VORSORGER            2.360918\n",
      "FINANZ_ANLEGER              3.820660\n",
      "FINANZ_UNAUFFAELLIGER       4.013258\n",
      "FINANZ_HAUSBAUER            2.138001\n",
      "GREEN_AVANTGARDE            0.992507\n",
      "HEALTH_TYP                  2.416396\n",
      "RETOURTYP_BK_S              2.490282\n",
      "SEMIO_SOZ                   3.075314\n",
      "SEMIO_FAM                   3.336090\n",
      "SEMIO_REL                   4.512818\n",
      "SEMIO_MAT                   4.423499\n",
      "SEMIO_VERT                  2.711228\n",
      "SEMIO_LUST                  3.301903\n",
      "SEMIO_ERL                   4.637254\n",
      "SEMIO_KULT                  3.483289\n",
      "SEMIO_RAT                   5.702921\n",
      "SEMIO_KRIT                  5.577955\n",
      "SEMIO_DOM                   6.419225\n",
      "SEMIO_KAEM                  5.875540\n",
      "SEMIO_PFLICHT               5.461895\n",
      "SEMIO_TRADV                 5.247656\n",
      "SOHO_KZ                     0.000076\n",
      "ANZ_PERSONEN                2.300818\n",
      "ANZ_TITEL                   0.009314\n",
      "HH_EINKOMMEN_SCORE          2.669863\n",
      "W_KEIT_KIND_HH              3.003690\n",
      "                            ...     \n",
      "KONSUMNAEHE                 3.353249\n",
      "MIN_GEBAEUDEJAHR         1994.282631\n",
      "OST_WEST_KZ                 0.045741\n",
      "KBA05_ANTG1                 2.228843\n",
      "KBA05_ANTG2                 1.174432\n",
      "KBA05_ANTG3                 0.133731\n",
      "KBA05_ANTG4                 0.036174\n",
      "KBA05_GBZ                   3.834517\n",
      "BALLRAUM                    4.178115\n",
      "EWDICHTE                    3.905372\n",
      "INNENSTADT                  4.756163\n",
      "GEBAEUDETYP_RASTER          3.923896\n",
      "KKK                         2.099899\n",
      "MOBI_REGIO                  3.618000\n",
      "ONLINE_AFFINITAET           4.116413\n",
      "REGIOTYP                    3.507526\n",
      "KBA13_ANZAHL_PKW          723.138286\n",
      "PLZ8_ANTG1                  2.713689\n",
      "PLZ8_ANTG2                  2.644659\n",
      "PLZ8_ANTG3                  1.251788\n",
      "PLZ8_ANTG4                  0.379025\n",
      "PLZ8_HHZ                    3.683698\n",
      "PLZ8_GBZ                    3.864269\n",
      "ARBEIT                      2.878084\n",
      "ORTSGR_KLS9                 5.252766\n",
      "RELAT_AB                    2.840229\n",
      "MOVEMENT                    0.007493\n",
      "DECADE                      0.007493\n",
      "WEALTH                      2.138328\n",
      "LIFE_STAGE                  3.319354\n",
      "Length: 63, dtype: float64\n"
     ]
    }
   ],
   "source": [
    "# What kinds of people are part of a cluster that is underrepresented in the\n",
    "# customer data compared to the general population?\n",
    "cluster_5 = scaler.inverse_transform(pca_num.inverse_transform(model_12.cluster_centers_[5]))\n",
    "under_cluster = pd.Series(data = cluster_5, index = customers_clean.columns)\n",
    "print(under_cluster)"
   ]
  },
  {
   "cell_type": "code",
   "execution_count": null,
   "metadata": {},
   "outputs": [],
   "source": []
  },
  {
   "cell_type": "markdown",
   "metadata": {},
   "source": [
    "### Discussion 3.3: Compare Customer Data to Demographics Data\n",
    "\n",
    "The over-represented cluster contains a much larger population with the following attributes:\n",
    " - 46-60 year olds (ALTERSKATEGORIE_GROB = 3.481359)\n",
    " - Part of the mainstream movement in their youth (MOVEMENT = 1.000864)\n",
    " - Resident in communities of sizes between 5 and 10 thousand inhabitants (ORTSGR_KLS9 = 3.426674)\n",
    " - Have an average estimated net household income (HH_EINKOMMEN_SCORE = 4.111447)\n",
    " - Have an average likelihood of having children in the household (W_KEIT_KIND_HH = 4.160969)\n",
    " - Part of a middle to lower class neighbourhood (REGIOTYP = 4.658321)\n",
    " - Average to high intenet affinity (ONLINE_AFFINITAET = 2.606223)\n",
    " - Part of comminity with density population of 34- 149 houses per square km (EWDICHTE = 2.532450)\n",
    " - Reside 40 to 50 km from the nearest urban centre (BALLRAUM = 5.338145)\n",
    " \n",
    "The underrepresented cluster contains a much smaller population with the following attributes:\n",
    " - individuals under 30 years old (ALTERSKATEGORIE_GROB =  1.961068)\n",
    " - Part of avangarde movement in their youth ( MOVEMENT  = 0.007493)\n",
    " - Resident in muxh larger communities of sizes between 20 and 50 thousand inhabitants (ORTSGR_KLS9 = 5.252766)\n",
    " - Have a very high to high estimated net household income of (HH_EINKOMMEN_SCORE = 2.669863)\n",
    " - Are kikely to have children in the household (W_KEIT_KIND_HH = 3.003690)\n",
    " - Part of a upper to middle class neighbourhood (REGIOTYP = 3.507526)\n",
    " - Very high internet affinity (ONLINE_AFFINITAET = 4.116413)\n",
    " - Part of much more densely populated communities (EWDICHTE = 3.905372)\n",
    " - Reside 30 to 40 km from the nearest urban centre (BALLRAUM = 4.178115)"
   ]
  },
  {
   "cell_type": "markdown",
   "metadata": {},
   "source": [
    "> Congratulations on making it this far in the project! Before you finish, make sure to check through the entire notebook from top to bottom to make sure that your analysis follows a logical flow and all of your findings are documented in **Discussion** cells. Once you've checked over all of your work, you should export the notebook as an HTML document to submit for evaluation. You can do this from the menu, navigating to **File -> Download as -> HTML (.html)**. You will submit both that document and this notebook for your project submission."
   ]
  },
  {
   "cell_type": "code",
   "execution_count": null,
   "metadata": {},
   "outputs": [],
   "source": []
  }
 ],
 "metadata": {
  "kernelspec": {
   "display_name": "Python 3",
   "language": "python",
   "name": "python3"
  },
  "language_info": {
   "codemirror_mode": {
    "name": "ipython",
    "version": 3
   },
   "file_extension": ".py",
   "mimetype": "text/x-python",
   "name": "python",
   "nbconvert_exporter": "python",
   "pygments_lexer": "ipython3",
   "version": "3.6.3"
  }
 },
 "nbformat": 4,
 "nbformat_minor": 2
}
